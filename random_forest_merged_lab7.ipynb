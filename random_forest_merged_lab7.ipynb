{
  "cells": [
    {
      "cell_type": "markdown",
      "metadata": {
        "id": "25_DoksTnz6A"
      },
      "source": [
        "# Lab 7: Time-series Anomaly Detection\n",
        "\n"
      ]
    },
    {
      "cell_type": "markdown",
      "metadata": {
        "id": "r__CaWOokrp6"
      },
      "source": [
        "Pandas was updated on 03/04/2023 to version 2.0, which is not compatibile with tsfel. Dowgrade to 1.5.3"
      ]
    },
    {
      "cell_type": "code",
      "execution_count": 83,
      "metadata": {
        "colab": {
          "base_uri": "https://localhost:8080/"
        },
        "id": "sNzvafzV0UQk",
        "outputId": "cbfd9a2b-b23a-4958-a4ad-580bb87df20b"
      },
      "outputs": [],
      "source": [
        "# !pip install pandas==1.5.3\n",
        "# !pip install tsfel"
      ]
    },
    {
      "cell_type": "markdown",
      "metadata": {
        "id": "T3dOdx_Swt7s"
      },
      "source": [
        "## Import and settings"
      ]
    },
    {
      "cell_type": "code",
      "execution_count": 84,
      "metadata": {
        "colab": {
          "base_uri": "https://localhost:8080/"
        },
        "id": "yLCrldUjk0g0",
        "outputId": "f185bf78-feb1-4f7f-f718-81e0c655703e"
      },
      "outputs": [],
      "source": [
        "# !pip install keras_tuner"
      ]
    },
    {
      "cell_type": "code",
      "execution_count": 85,
      "metadata": {
        "id": "Ab1falMquEfu"
      },
      "outputs": [],
      "source": [
        "import os\n",
        "import time\n",
        "import tsfel\n",
        "import warnings\n",
        "import datetime\n",
        "import keras_tuner\n",
        "import numpy as np\n",
        "import pandas as pd\n",
        "import seaborn as sns\n",
        "import tensorflow as tf\n",
        "import matplotlib.cm as cm\n",
        "from sklearn import metrics\n",
        "import plotly.express as px\n",
        "import matplotlib.pyplot as plt\n",
        "from sklearn import preprocessing\n",
        "import plotly.graph_objects as go\n",
        "from sklearn.decomposition import PCA\n",
        "from sklearn.pipeline import Pipeline\n",
        "from sklearn.svm import SVC, LinearSVC\n",
        "from sklearn.metrics import confusion_matrix\n",
        "from sklearn.ensemble import RandomForestClassifier\n",
        "from sklearn.model_selection import train_test_split\n",
        "from sklearn.feature_selection import SelectFromModel\n",
        "from sklearn.model_selection import RandomizedSearchCV\n",
        "from sklearn.feature_selection import VarianceThreshold\n",
        "\n",
        "# ROOTDIR_DATASET_NORMAL = \"/content/drive/MyDrive/normal\"\n",
        "\n",
        "# Set style for matplotlib\n",
        "plt.style.use(\"Solarize_Light2\")"
      ]
    },
    {
      "cell_type": "markdown",
      "metadata": {
        "id": "OdQ6CABmwpet"
      },
      "source": [
        "## Utils"
      ]
    },
    {
      "cell_type": "code",
      "execution_count": 86,
      "metadata": {
        "id": "9VvhrlZYwpBF"
      },
      "outputs": [],
      "source": [
        "def seaborn_cm(cm, ax, tick_labels, fontsize=14, title=None, sum_actual=\"over_columns\",\n",
        "               xrotation=0, yrotation=0):\n",
        "    \"\"\"\n",
        "    Function to plot a confusion matrix\n",
        "    \"\"\"\n",
        "    from matplotlib import cm as plt_cmap\n",
        "    group_counts = [\"{:0.0f}\".format(value) for value in cm.flatten()]\n",
        "    if sum_actual == \"over_columns\":\n",
        "        cm = cm.astype('float') / cm.sum(axis=1)[:, np.newaxis]\n",
        "    elif sum_actual == \"over_rows\":\n",
        "        cm = cm.astype('float') / cm.sum(axis=0)[:, np.newaxis]\n",
        "    else:\n",
        "        print(\"sum_actual must be over_columns or over_rows\")\n",
        "        exit()\n",
        "    cm = np.nan_to_num(cm)\n",
        "    mean_acc = np.mean(np.diag(cm)[cm.sum(axis=1) != 0])\n",
        "    std_acc = np.std(np.diag(cm))\n",
        "    group_percentages = [\"{:0.0f}\".format(value*100) for value in cm.flatten()]\n",
        "    cm_labels = [f\"{c}\\n{p}%\" for c, p in zip(group_counts, group_percentages)]\n",
        "    cm_labels = np.asarray(cm_labels).reshape(len(tick_labels), len(tick_labels))\n",
        "    sns.heatmap(cm,\n",
        "                ax=ax,\n",
        "                annot=cm_labels,\n",
        "                fmt='',\n",
        "                cbar=False,\n",
        "                cmap=plt_cmap.Greys,\n",
        "                linewidths=1, linecolor='black',\n",
        "                annot_kws={\"fontsize\": fontsize},\n",
        "                xticklabels=tick_labels,\n",
        "                yticklabels=tick_labels)\n",
        "    ax.set_yticklabels(ax.get_yticklabels(), size=fontsize, rotation=yrotation)\n",
        "    ax.set_xticklabels(ax.get_xticklabels(), size=fontsize, rotation=xrotation)\n",
        "    if title:\n",
        "        title = f\"{title}\\nMean accuracy {mean_acc * 100:.1f} +- {std_acc * 100:.1f}\"\n",
        "    else:\n",
        "        title = f\"Mean accuracy {mean_acc * 100:.1f} +- {std_acc * 100:.1f}\"\n",
        "    ax.set_title(title)\n",
        "    if sum_actual == \"over_columns\":\n",
        "        ax.set_ylabel(\"Actual\")\n",
        "        ax.set_xlabel(\"Predicted\")\n",
        "    else:\n",
        "        ax.set_ylabel(\"Predicted\")\n",
        "        ax.set_xlabel(\"Actual\")\n",
        "    ax.axis(\"off\")"
      ]
    },
    {
      "cell_type": "markdown",
      "metadata": {
        "id": "o9lwijXxshIO"
      },
      "source": [
        "# Introduction"
      ]
    },
    {
      "cell_type": "markdown",
      "metadata": {
        "id": "aGsX9I4koqnY"
      },
      "source": [
        "You will use the dataset provided in the first Lab, concerning time series.\n",
        "\n",
        "In such Lab1, we built a model able to classify the action that is performing a Kuka robot.\n",
        "\n",
        "Now, we will explore Time Series Anomaly Detection (TAD), hence considering also the data contained in the collinsion foder."
      ]
    },
    {
      "cell_type": "markdown",
      "metadata": {
        "id": "IZ4i9Y0g1Pn6"
      },
      "source": [
        "This function loads sensor readings and the correspondig metadata.\n",
        "The output is a dataframe grouped by action."
      ]
    },
    {
      "cell_type": "code",
      "execution_count": 87,
      "metadata": {
        "id": "BuSu5E2TnzoG"
      },
      "outputs": [],
      "source": [
        "def get_df_action(filepaths_csv, filepaths_meta, action2int=None, delimiter=\";\"):\n",
        "    # Load dataframes\n",
        "    print(\"Loading data.\")\n",
        "    # Make dataframes\n",
        "    # Some classes show the output boolean parameter as True rather than true. Fix here\n",
        "    dfs_meta = list()\n",
        "    for filepath in filepaths_meta:\n",
        "        df_m = pd.read_csv(filepath, sep=delimiter)\n",
        "        df_m.str_repr = df_m.str_repr.str.replace('True', 'true')\n",
        "        df_m['filepath'] = filepath\n",
        "        dfs_meta.append(df_m)\n",
        "\n",
        "    df_meta = pd.concat(dfs_meta)\n",
        "    df_meta.index = pd.to_datetime(df_meta.init_timestamp.astype('datetime64[ms]'), format=\"%Y-%m-%dT%H:%M:%S.%f\")\n",
        "    df_meta['completed_timestamp'] = pd.to_datetime(df_meta.completed_timestamp.astype('datetime64[ms]'),\n",
        "                                                    format=\"%Y-%m-%dT%H:%M:%S.%f\")\n",
        "    df_meta['init_timestamp'] = pd.to_datetime(df_meta.init_timestamp.astype('datetime64[ms]'),\n",
        "                                               format=\"%Y-%m-%dT%H:%M:%S.%f\")\n",
        "\n",
        "    # Eventually reduce number of classes\n",
        "    # df_meta['str_repr'] = df_meta.str_repr.str.split('=', expand = True,n=1)[0]\n",
        "    # df_meta['str_repr'] = df_meta.str_repr.str.split('(', expand=True, n=1)[0]\n",
        "\n",
        "    actions = df_meta.str_repr.unique()\n",
        "    dfs = [pd.read_csv(filepath_csv, sep=\";\") for filepath_csv in filepaths_csv]\n",
        "    df = pd.concat(dfs)\n",
        "\n",
        "    # Sort columns by name !!!\n",
        "    df = df.sort_index(axis=1)\n",
        "\n",
        "    # Set timestamp as index\n",
        "    df.index = pd.to_datetime(df.time.astype('datetime64[ms]'), format=\"%Y-%m-%dT%H:%M:%S.%f\")\n",
        "    # Drop useless columns\n",
        "    columns_to_drop = [column for column in df.columns if \"Abb\" in column or \"Temperature\" in column]\n",
        "    df.drop([\"machine_nameKuka Robot_export_active_energy\",\n",
        "             \"machine_nameKuka Robot_import_reactive_energy\"] + columns_to_drop, axis=1, inplace=True)\n",
        "    signals = df.columns\n",
        "\n",
        "    df_action = list()\n",
        "    for action in actions:\n",
        "        for index, row in df_meta[df_meta.str_repr == action].iterrows():\n",
        "            start = row['init_timestamp']\n",
        "            end = row['completed_timestamp']\n",
        "            df_tmp = df.loc[start: end].copy()\n",
        "            df_tmp['action'] = action\n",
        "            # Duration as string (so is not considered a feature)\n",
        "            df_tmp['duration'] = str((row['completed_timestamp'] - row['init_timestamp']).total_seconds())\n",
        "            df_action.append(df_tmp)\n",
        "    df_action = pd.concat(df_action, ignore_index=True)\n",
        "    df_action.index = pd.to_datetime(df_action.time.astype('datetime64[ms]'), format=\"%Y-%m-%dT%H:%M:%S.%f\")\n",
        "    df_action = df_action[~df_action.index.duplicated(keep='first')]\n",
        "\n",
        "    # Drop NaN\n",
        "    df = df.dropna(axis=0)\n",
        "    df_action = df_action.dropna(axis=0)\n",
        "\n",
        "    if action2int is None:\n",
        "        action2int = dict()\n",
        "        j = 1\n",
        "        for label in df_action.action.unique():\n",
        "            action2int[label] = j\n",
        "            j += 1\n",
        "\n",
        "    df_merged = df.merge(df_action[['action']], left_index=True, right_index=True, how=\"left\")\n",
        "    # print(f\"df_merged len: {len(df_merged)}\")\n",
        "    # Where df_merged in NaN Kuka is in idle state\n",
        "    df_idle = df_merged[df_merged['action'].isna()].copy()\n",
        "    df_idle['action'] = 'idle'\n",
        "    df_idle['duration'] = df_action.duration.values.astype(float).mean().astype(str)\n",
        "    df_action = pd.concat([df_action, df_idle])\n",
        "\n",
        "    # ile label must be 0 for debug mode\n",
        "    action2int['idle'] = 0\n",
        "    print(f\"Found {len(set(df_action['action']))} different actions.\")\n",
        "    print(\"Loading data done.\\n\")\n",
        "\n",
        "    return df_action, df, df_meta, action2int"
      ]
    },
    {
      "cell_type": "markdown",
      "metadata": {
        "id": "5fszmTrv7p_b"
      },
      "source": [
        "Load all data (and metadata) for frequency = 10 Hz for the normal time series"
      ]
    },
    {
      "cell_type": "code",
      "execution_count": 88,
      "metadata": {
        "colab": {
          "base_uri": "https://localhost:8080/"
        },
        "id": "iCFKUM60ypMa",
        "outputId": "4be8b2f3-74d8-4130-81ac-4908d79ce4b9"
      },
      "outputs": [],
      "source": [
        "# !ls {ROOTDIR_DATASET_NORMAL}"
      ]
    },
    {
      "cell_type": "code",
      "execution_count": 89,
      "metadata": {},
      "outputs": [],
      "source": [
        "# Path to the root directory of the dataset\n",
        "ROOTDIR_DATASET_NORMAL =  './dataset/normal' #'/content/drive/MyDrive/dataset/normal'\n",
        "ROOTDIR_DATASET_ANOMALY = './dataset/collisions'#'/content/drive/MyDrive/dataset/collisions'\n",
        "\n",
        "# TF_ENABLE_ONEDNN_OPTS=0 means that the model will not use the oneDNN library for optimization\n",
        "\n",
        "import os\n",
        "os.environ['TF_ENABLE_ONEDNN_OPTS'] = '0'"
      ]
    },
    {
      "cell_type": "code",
      "execution_count": 90,
      "metadata": {
        "colab": {
          "base_uri": "https://localhost:8080/"
        },
        "id": "arGQVa5UtUh0",
        "outputId": "63e0eca7-17f0-45c6-b1a3-5a0c97cc243c"
      },
      "outputs": [
        {
          "name": "stdout",
          "output_type": "stream",
          "text": [
            "Loading data.\n",
            "Found 31 different actions.\n",
            "Loading data done.\n",
            "\n"
          ]
        }
      ],
      "source": [
        "filepath_csv = [os.path.join(ROOTDIR_DATASET_NORMAL, f\"rec{r}_20220811_rbtc_0.1s.csv\") for r in [0, 2, 3, 4]]\n",
        "filepath_meta = [os.path.join(ROOTDIR_DATASET_NORMAL, f\"rec{r}_20220811_rbtc_0.1s.metadata\") for r in [0, 2, 3, 4]]\n",
        "df_action, df, df_meta, action2int = get_df_action(filepath_csv, filepath_meta)"
      ]
    },
    {
      "cell_type": "markdown",
      "metadata": {
        "id": "kaJr3wL__r0I"
      },
      "source": [
        "# Features extraction"
      ]
    },
    {
      "cell_type": "markdown",
      "metadata": {
        "id": "EnTpATdm_0zM"
      },
      "source": [
        "We will leverage [Time Series Feature Extraction Library (TSFEL)](https://tsfel.readthedocs.io/en/latest/), to extract features from time series data."
      ]
    },
    {
      "cell_type": "code",
      "execution_count": 91,
      "metadata": {
        "id": "VeTHFj8h0dQ3"
      },
      "outputs": [],
      "source": [
        "warnings.filterwarnings(\"ignore\", category=FutureWarning)\n",
        "warnings.filterwarnings(\"ignore\", category=UserWarning)\n",
        "warnings.filterwarnings(\"ignore\", category=RuntimeWarning)\n",
        "\n",
        "def get_features_ts(domain, df_action, df_meta, frequency, action2int):\n",
        "    duration_dict = {1: 10, 10: 1, 100: 0.1, 200: 0.05}\n",
        "    duration_min = duration_dict[int(frequency)]\n",
        "    cfg = tsfel.get_features_by_domain(domain)\n",
        "    dataframe_features = list()\n",
        "    print(\"Computing features.\")\n",
        "    # Idle does not have associated timestamps. Window is set to 10 seconds\n",
        "    df_by_action = df_action[df_action[\"action\"] == \"idle\"].copy()\n",
        "    X = tsfel.time_series_features_extractor(cfg,\n",
        "                                             df_by_action.select_dtypes(['number']),\n",
        "                                             fs=frequency,\n",
        "                                             header_names=df_by_action.select_dtypes(['number']).columns + '-',\n",
        "                                             window_size=int(frequency * 10),\n",
        "                                             verbose=False)\n",
        "    time = pd.to_datetime(df_by_action.time.astype('datetime64[ms]'), format=\"%Y-%m-%dT%H:%M:%S.%f\")\n",
        "    X['start'] = [t[0] for t in\n",
        "                  tsfel.utils.signal_processing.signal_window_splitter(time, window_size=int(frequency * 10))]\n",
        "    X['duration'] = 10\n",
        "    X['end'] = X['start'] + pd.to_timedelta(X['duration'], 's')\n",
        "    X['label'] = action2int[\"idle\"]\n",
        "    X.drop('duration', inplace=True, axis=1)\n",
        "    dataframe_features.append(X)\n",
        "    actions = list(df_action.action.unique())\n",
        "    actions.remove(\"idle\")\n",
        "    for action in actions:\n",
        "        df_by_action = df_action[df_action[\"action\"] == action].copy()\n",
        "        df_meta_by_action = df_meta[df_meta['str_repr'] == action].copy()\n",
        "        df_meta_by_action['start'] = pd.to_datetime(df_meta_by_action.init_timestamp.astype('datetime64[ms]'),\n",
        "                                                    format=\"%Y-%m-%dT%H:%M:%S.%f\")\n",
        "        df_meta_by_action['end'] = pd.to_datetime(\n",
        "            df_meta_by_action.completed_timestamp.astype('datetime64[ms]'), format=\"%Y-%m-%dT%H:%M:%S.%f\")\n",
        "        for _, row in df_meta_by_action.iterrows():\n",
        "            df_by_action_by_event = df_by_action.loc[row[\"start\"]: row[\"end\"]]\n",
        "            if len(df_by_action_by_event) < duration_min * frequency:\n",
        "                print(f\"Skipped feature extraction for {action} {row['start']} : {row['end']}.\")\n",
        "                continue\n",
        "\n",
        "            X = tsfel.calc_window_features(cfg,\n",
        "                                           df_by_action_by_event.select_dtypes(['number']),\n",
        "                                           header_names=df_by_action_by_event.select_dtypes(['number']).columns + '-',\n",
        "                                           fs=frequency,\n",
        "                                           verbose=False)\n",
        "            # print(X.shape)\n",
        "            X['label'] = action2int[action]\n",
        "            X['start'] = row['start']\n",
        "            X['end'] = row['end']\n",
        "            dataframe_features.append(X)\n",
        "\n",
        "    dataframe_features = pd.concat(dataframe_features)\n",
        "    print(\"Computing features done.\")\n",
        "    return dataframe_features"
      ]
    },
    {
      "cell_type": "code",
      "execution_count": 92,
      "metadata": {
        "colab": {
          "base_uri": "https://localhost:8080/",
          "height": 233
        },
        "id": "hiOnD99H1K4t",
        "outputId": "bfa44000-56d4-4cc0-c004-96f40c0cf677"
      },
      "outputs": [
        {
          "name": "stdout",
          "output_type": "stream",
          "text": [
            "Computing features.\n"
          ]
        },
        {
          "data": {
            "text/html": [
              "\n",
              "              <p>\n",
              "                  Progress: 0% Complete\n",
              "              <p/>\n",
              "              <progress\n",
              "                  value='0'\n",
              "                  max='32',\n",
              "                  style='width: 25%',\n",
              "              >\n",
              "                  0\n",
              "              </progress>\n",
              "\n",
              "    "
            ],
            "text/plain": [
              "<IPython.core.display.HTML object>"
            ]
          },
          "metadata": {},
          "output_type": "display_data"
        },
        {
          "name": "stdout",
          "output_type": "stream",
          "text": [
            "Skipped feature extraction for pickFromPallet(1,2)=[true,1,0] 2022-08-11 14:37:37.436000 : 2022-08-11 14:37:37.421000.\n",
            "Skipped feature extraction for placeToPallet(1,1)=[true,0] 2022-08-11 14:37:37.421000 : 2022-08-11 14:37:37.442000.\n",
            "Skipped feature extraction for pickFromPallet(3,2)=[true,1,0] 2022-08-11 15:36:32.568000 : 2022-08-11 15:36:32.533000.\n",
            "Skipped feature extraction for pickFromPallet(3,2)=[true,1,0] 2022-08-11 15:36:32.572000 : 2022-08-11 15:36:32.561000.\n",
            "Skipped feature extraction for placeToPallet(1,3)=[true,0] 2022-08-11 15:36:32.533000 : 2022-08-11 15:36:32.572000.\n",
            "Skipped feature extraction for placeToPallet(1,3)=[true,0] 2022-08-11 15:36:32.561000 : 2022-08-11 15:36:32.561000.\n",
            "Computing features done.\n",
            "--- 136.08253645896912 seconds ---\n"
          ]
        }
      ],
      "source": [
        "start_time = time.time()\n",
        "df_features = get_features_ts(\"statistical\", df_action, df_meta, 10, action2int)\n",
        "print(\"--- %s seconds ---\" % (time.time() - start_time))"
      ]
    },
    {
      "cell_type": "markdown",
      "metadata": {
        "id": "lXK9ZOMS3yT2"
      },
      "source": [
        "Prepare data for train and test\n",
        "\n",
        "Note that:\n",
        "\n",
        "*   the last three columns are the start, the end and the label corresponding to the action the robot is performing. Label is our gound truth, start and end can be dropped for the moment.\n",
        "*   set NaN valuesto 0.\n",
        "\n",
        "\n"
      ]
    },
    {
      "cell_type": "code",
      "execution_count": 93,
      "metadata": {
        "colab": {
          "base_uri": "https://localhost:8080/"
        },
        "id": "cELRWIFB7s60",
        "outputId": "ad5d09c3-c8aa-4b97-c762-48193bd8fa06"
      },
      "outputs": [
        {
          "data": {
            "text/plain": [
              "True"
            ]
          },
          "execution_count": 93,
          "metadata": {},
          "output_type": "execute_result"
        }
      ],
      "source": [
        "df_features.isnull().values.any()"
      ]
    },
    {
      "cell_type": "code",
      "execution_count": 94,
      "metadata": {
        "id": "zyKUCiCNGnvZ"
      },
      "outputs": [],
      "source": [
        "# df_features_nonan = df_features.drop((df_features.columns[df_features.isna().any()].tolist()), axis=1)\n",
        "df_features_nonan = df_features.fillna(0)"
      ]
    },
    {
      "cell_type": "code",
      "execution_count": 95,
      "metadata": {
        "id": "ksU5UOl1_Ci9"
      },
      "outputs": [],
      "source": [
        "df_train, df_test = train_test_split(df_features_nonan)"
      ]
    },
    {
      "cell_type": "code",
      "execution_count": 96,
      "metadata": {
        "id": "GE10NG8S_S22"
      },
      "outputs": [],
      "source": [
        "X_train = df_train.drop([\"label\", \"start\", \"end\"], axis=1)\n",
        "y_train = df_train[\"label\"]\n",
        "X_test = df_test.drop([\"label\", \"start\", \"end\"], axis=1)\n",
        "y_test = df_test[\"label\"]"
      ]
    },
    {
      "cell_type": "code",
      "execution_count": 97,
      "metadata": {
        "id": "ZwJCzu09lsyO"
      },
      "outputs": [],
      "source": [
        "# Normalise features\n",
        "scaler = preprocessing.StandardScaler()\n",
        "scaler.fit(X_train)\n",
        "X_train = pd.DataFrame(scaler.transform(X_train), columns=X_train.columns)\n",
        "\n",
        "# Remove zero-variance features\n",
        "selector_variance = VarianceThreshold()\n",
        "selector_variance.fit(X_train)\n",
        "X_train = pd.DataFrame(selector_variance.transform(X_train),\n",
        "                        columns=X_train.columns.values[selector_variance.get_support()])\n",
        "\n",
        "# Remove highly correlated features\n",
        "corr_features = tsfel.correlated_features(X_train,\n",
        "                                          threshold=0.95)\n",
        "X_train.drop(corr_features, inplace=True, axis=1)\n",
        "\n",
        "# Lasso selector\n",
        "lsvc = LinearSVC(C=0.01, penalty=\"l1\", dual=False).fit(X_train, y_train)\n",
        "lasso = SelectFromModel(lsvc, prefit=True)\n",
        "selected_features = X_train.columns.values[lasso.get_support()]\n",
        "X_train = X_train[selected_features].copy()\n",
        "\n",
        "# Labels\n",
        "num_classes = len(set(y_train))\n",
        "y_train_categorical = tf.keras.utils.to_categorical(y_train, num_classes=num_classes)\n",
        "\n",
        "# Test\n",
        "X_test = pd.DataFrame(selector_variance.transform(scaler.transform(X_test)),\n",
        "                      columns=X_test.columns.values[selector_variance.get_support()])\n",
        "X_test.drop(corr_features, inplace=True, axis=1)\n",
        "X_test = X_test[selected_features].copy()"
      ]
    },
    {
      "cell_type": "code",
      "execution_count": 98,
      "metadata": {},
      "outputs": [
        {
          "name": "stdout",
          "output_type": "stream",
          "text": [
            "Random Forest training completed.\n"
          ]
        }
      ],
      "source": [
        "num_estims = [10, 100, 1000]\n",
        "crits = ['gini', 'entropy', 'log_loss']\n",
        "max_dept = [None, 50, 100, 1000]\n",
        "min_s_splits = [2, 3]\n",
        "max_features = ['sqrt', 'log2', None]\n",
        "\n",
        "classifier = RandomForestClassifier(\n",
        "    n_estimators = 100,\n",
        "    criterion = 'gini',\n",
        "    max_depth = 1000,\n",
        "    min_samples_split = 2,\n",
        "    max_features = 'sqrt'\n",
        "    )\n",
        "# Train the RandomForestClassifier on normal data\n",
        "classifier.fit(X_train, y_train)\n",
        "print(\"Random Forest training completed.\")"
      ]
    },
    {
      "cell_type": "code",
      "execution_count": 99,
      "metadata": {},
      "outputs": [],
      "source": [
        "y_test_predict = classifier.predict_proba(X_test.values)"
      ]
    },
    {
      "cell_type": "code",
      "execution_count": 100,
      "metadata": {},
      "outputs": [
        {
          "data": {
            "text/plain": [
              "array([ 3,  1, 12,  8, 11,  3, 21, 11, 11,  1, 15, 20, 15, 27, 19, 11,  6,\n",
              "       12, 11,  2,  7, 18, 18, 30, 23,  3, 11, 19, 13,  2,  3, 10, 11,  7,\n",
              "        5, 25, 17, 23, 23,  6,  0,  1, 16,  7,  7,  7,  4,  3,  7, 24, 12,\n",
              "       21, 18, 21, 26,  7, 11,  5,  1, 24,  4, 12, 16,  7, 11, 10,  5,  9,\n",
              "       19, 22,  5, 22, 26,  3,  7, 11, 16, 12, 18, 24,  0, 18, 23,  4,  4,\n",
              "       12,  3,  8, 12,  0, 24,  8, 17, 19,  3, 23, 30, 16,  7,  3, 11,  8,\n",
              "       11, 13,  4,  5, 14, 18, 14,  8,  8,  7, 11,  1, 19,  8, 30,  3,  7,\n",
              "        7,  3,  0,  4, 12, 12,  7,  8, 27, 22,  6,  3,  3,  1,  0, 13, 16,\n",
              "        4, 27, 22, 24, 18, 12,  5, 19,  7,  1, 17, 26,  8, 25, 11, 11,  8,\n",
              "        3,  2, 12,  3,  7, 24, 17, 17, 22, 14,  3,  3, 17, 19, 21, 26, 20,\n",
              "        4,  3, 17, 28, 17,  0, 19, 12,  8,  5, 16, 12, 11,  3, 22, 13,  1,\n",
              "        7, 25, 17,  8,  4,  7,  0,  3, 27,  3, 16, 11,  9, 10, 27,  3, 12,\n",
              "       18,  7, 29, 18, 19, 12,  7, 25, 16,  5,  0,  4,  6, 23, 10,  7, 24,\n",
              "        9,  0, 25, 11, 11, 27,  4, 11, 17, 18, 13,  4, 11,  7,  8,  0,  9,\n",
              "        5, 15,  4,  4,  1, 15], dtype=int64)"
            ]
          },
          "execution_count": 100,
          "metadata": {},
          "output_type": "execute_result"
        }
      ],
      "source": [
        "y_test_predict.argmax(axis=1)"
      ]
    },
    {
      "cell_type": "markdown",
      "metadata": {},
      "source": [
        "array([ 7, 14,  4,  4,  9, 11, 30,  8,  3,  4,  3, 12, 20,  0,  5,  3,  4,\n",
        "       25, 11, 30, 22, 17,  4,  3, 15, 14, 23,  6, 25, 12, 19,  3,  6, 12,\n",
        "       11, 27,  3, 10, 20, 14, 19, 22,  7,  6, 13,  0, 14, 20, 17,  7, 11,\n",
        "       19, 17,  7, 27, 17,  8, 30,  9,  5,  9, 26,  0,  8,  5, 22, 10,  7,\n",
        "        7, 28, 16,  4,  2, 12, 14,  8, 10,  0,  7, 25, 21,  6, 15, 18, 17,\n",
        "       11,  2,  3,  7,  6,  3,  2, 18,  8, 21,  3,  3, 12,  9, 29,  7,  3,\n",
        "        3,  9, 11, 11, 16, 16,  4,  1,  6,  3,  5,  4,  5, 12, 11, 15,  9,\n",
        "        4,  3, 23,  7, 13,  2,  4, 17,  7,  5,  4, 12, 23,  3, 23, 11,  7,\n",
        "       30, 22,  1,  3, 16,  6, 17, 11,  9, 12, 17,  7, 14,  5,  7,  7, 11,\n",
        "       21, 11,  8, 11,  4, 11, 29, 12, 26, 11,  5, 24, 29, 16, 14, 15, 12,\n",
        "        8,  3,  4,  7,  1, 26,  8, 21, 13, 28,  3,  3, 15,  5, 11, 16, 11,\n",
        "        9,  1, 11,  7,  6, 12, 12,  3, 11, 10, 25, 25,  3, 29, 16, 12,  8,\n",
        "       24, 12, 18, 18,  4, 13, 12, 15, 17, 12, 14,  8, 11, 30,  8, 22, 18,\n",
        "        2,  7,  4, 13,  7, 22,  0, 10,  2, 14,  9, 26, 12,  7,  2, 28, 13,\n",
        "        3,  4, 28, 13, 12, 18], dtype=int64)"
      ]
    },
    {
      "cell_type": "markdown",
      "metadata": {
        "id": "IwfnwDPlw1hh"
      },
      "source": [
        "Check the model performance"
      ]
    },
    {
      "cell_type": "code",
      "execution_count": 101,
      "metadata": {
        "colab": {
          "base_uri": "https://localhost:8080/",
          "height": 806
        },
        "id": "sl_jrW8Xq0dW",
        "outputId": "2b927f88-dab5-4b35-cec2-e676bf8cdaa4"
      },
      "outputs": [
        {
          "data": {
            "image/png": "[encoded data removed]",
            "text/plain": [
              "<Figure size 800x800 with 1 Axes>"
            ]
          },
          "metadata": {},
          "output_type": "display_data"
        }
      ],
      "source": [
        "# Get confusion matrix\n",
        "cm = confusion_matrix(y_test, y_test_predict.argmax(axis=1), labels=list(action2int.values()))\n",
        "fig, ax = plt.subplots(1, 1, figsize=(8, 8))\n",
        "int2action = {v: k for k, v in action2int.items()}\n",
        "seaborn_cm(cm,\n",
        "            ax,\n",
        "            [int2action[l] for l in action2int.values()], fontsize=8, xrotation=90)\n",
        "plt.tight_layout()"
      ]
    },
    {
      "cell_type": "markdown",
      "metadata": {
        "id": "VIYjofycw4Ni"
      },
      "source": [
        "Here we implement a wrapper to compute uncertainty metrics (see Lab6)"
      ]
    },
    {
      "cell_type": "code",
      "execution_count": 102,
      "metadata": {
        "id": "3ETc3Wlqj0-7"
      },
      "outputs": [],
      "source": [
        "class Confidence:\n",
        "\n",
        "    def __init__(self, multiple_preds):\n",
        "        self.multiple_preds = multiple_preds\n",
        "        self._uncertainty_metrics = dict()\n",
        "        self._uncertainty_metrics['entropy'] = self._entropy\n",
        "        self._uncertainty_metrics['variance'] = self._variance\n",
        "        self._uncertainty_metrics['max_softmax_response'] = self._max_softmax_response\n",
        "\n",
        "    def compute_uncertainty_metrics(self):\n",
        "        return {metric: self._compute_uncertainty(\n",
        "            metric,\n",
        "            self.multiple_preds) for metric in self._uncertainty_metrics.keys()}\n",
        "\n",
        "    def _normalize(self, values):\n",
        "            return (values - values.min())/(values.max()-values.min())\n",
        "\n",
        "    def _compute_uncertainty(self, metric, multiple_preds):\n",
        "        try:\n",
        "            print(\"Done {}\".format(metric))\n",
        "            return self._normalize(\n",
        "                self._uncertainty_metrics[metric](multiple_preds))\n",
        "        except KeyError:\n",
        "            print(\"{} not implemented.\".format(metric))\n",
        "\n",
        "    def _avreage_prediction(self, multiple_preds):\n",
        "        if len(multiple_preds.shape) > 2:\n",
        "            return np.mean(np.array(multiple_preds), axis=0)\n",
        "        else:\n",
        "            return multiple_preds\n",
        "\n",
        "    def _entropy(self, multiple_preds):\n",
        "        avg_preds = self._avreage_prediction(multiple_preds)\n",
        "        eps = 1e-5\n",
        "        entropy = -1 * np.sum(avg_preds * np.log(avg_preds + eps), axis=1)\n",
        "        return entropy\n",
        "\n",
        "    def _variance(self, multiple_preds):\n",
        "        avg_preds = self._avreage_prediction(multiple_preds)\n",
        "        return  np.var(avg_preds, axis=1)\n",
        "\n",
        "    def _max_softmax_response(self, multiple_preds):\n",
        "        avg_preds = self._avreage_prediction(multiple_preds)\n",
        "        return np.max(avg_preds, axis=1)\n",
        "\n",
        "def anomaly_detection_metric(anomaly_start_timestamps, confidence, df_dataset, thresholds, less_than=True):\n",
        "    \"Actual is y axis\"\n",
        "    if not less_than:\n",
        "        confidence = 1 - confidence\n",
        "\n",
        "    sens = list()\n",
        "    spec = list()\n",
        "    fpr = list()\n",
        "    f1 = list()\n",
        "    prec = list()\n",
        "    cm_list = list()\n",
        "    anomaly_indexes_dict = dict()\n",
        "    acc_with_err = list()\n",
        "    for threshold in thresholds:\n",
        "        df_not_confident = df_dataset[confidence <= threshold]\n",
        "        tp = 0\n",
        "        anomaly_indexes = list()\n",
        "        for anomaly in anomaly_start_timestamps:\n",
        "            for index, row in df_not_confident.iterrows():\n",
        "                if anomaly >= row['start'] and anomaly <= row['end']:\n",
        "                    anomaly_indexes.append(index)\n",
        "                    tp += 1\n",
        "\n",
        "        cm_anomaly = np.zeros((2, 2))\n",
        "        n_samples = len(df_dataset)\n",
        "        n_not_collisions = n_samples - len(anomaly_start_timestamps)\n",
        "        n_detected = len(df_not_confident)\n",
        "\n",
        "        fp = n_detected - tp\n",
        "        fn = len(anomaly_start_timestamps) - tp\n",
        "        tn = n_not_collisions - fp\n",
        "\n",
        "        cm_anomaly[0][0] = tn\n",
        "        cm_anomaly[1][1] = tp\n",
        "        cm_anomaly[0][1] = fp\n",
        "        cm_anomaly[1][0] = fn\n",
        "        cm_list.append(cm_anomaly)\n",
        "        sens.append(tp / (tp + fn))\n",
        "        recall = tp / (tp + fn)\n",
        "        prec.append(tp / (tp + fp))\n",
        "        spec.append(tn / (fp + tn))\n",
        "        fpr.append(1 - tn / (fp + tn))\n",
        "        try:\n",
        "            f1.append(2 * tp / (2 * tp + fp + fn) )\n",
        "        except ZeroDivisionError:\n",
        "            f1.append(0)\n",
        "        cm_anomaly_norm = cm_anomaly.astype('float') / cm_anomaly.sum(axis=1)[:, np.newaxis]\n",
        "        acc_with_err.append((np.mean(np.diag(cm_anomaly_norm)),\n",
        "                            np.std(np.diag(cm_anomaly_norm))))\n",
        "\n",
        "\n",
        "        anomaly_indexes_dict[threshold] = anomaly_indexes\n",
        "    return sens, spec, fpr, f1, cm_list, anomaly_indexes_dict, acc_with_err, prec"
      ]
    },
    {
      "cell_type": "code",
      "execution_count": 103,
      "metadata": {},
      "outputs": [],
      "source": [
        "class Confidence:\n",
        "\n",
        "    def __init__(self, multiple_preds):\n",
        "        self.multiple_preds = multiple_preds\n",
        "        self._uncertainty_metrics = dict()\n",
        "        self._uncertainty_metrics['entropy'] = self._entropy\n",
        "        self._uncertainty_metrics['variance'] = self._variance\n",
        "        self._uncertainty_metrics['max_softmax_response'] = self._max_softmax_response\n",
        "\n",
        "    def compute_uncertainty_metrics(self):\n",
        "        return {metric: self._compute_uncertainty(\n",
        "            metric,\n",
        "            self.multiple_preds) for metric in self._uncertainty_metrics.keys()}\n",
        "\n",
        "    def _normalize(self, values):\n",
        "            return (values - values.min())/(values.max()-values.min())\n",
        "\n",
        "    def _compute_uncertainty(self, metric, multiple_preds):\n",
        "        try:\n",
        "            print(\"Done {}\".format(metric))\n",
        "            return self._normalize(\n",
        "                self._uncertainty_metrics[metric](multiple_preds))\n",
        "        except KeyError:\n",
        "            print(\"{} not implemented.\".format(metric))\n",
        "\n",
        "    def _avreage_prediction(self, multiple_preds):\n",
        "        if len(multiple_preds.shape) > 2:\n",
        "            return np.mean(np.array(multiple_preds), axis=0)\n",
        "        else:\n",
        "            return multiple_preds\n",
        "\n",
        "    def _entropy(self, multiple_preds):\n",
        "        avg_preds = self._avreage_prediction(multiple_preds)\n",
        "        eps = 1e-5\n",
        "        entropy = -1 * np.sum(avg_preds * np.log(avg_preds + eps), axis=1)\n",
        "        return entropy\n",
        "\n",
        "    def _variance(self, multiple_preds):\n",
        "        avg_preds = self._avreage_prediction(multiple_preds)\n",
        "        return  np.var(avg_preds, axis=1)\n",
        "\n",
        "    def _max_softmax_response(self, multiple_preds):\n",
        "        avg_preds = self._avreage_prediction(multiple_preds)\n",
        "        return np.max(avg_preds, axis=1)\n",
        "\n",
        "def anomaly_detection_metric(anomaly_start_timestamps, confidence, df_dataset, thresholds, less_than=True):\n",
        "    \"Actual is y axis\"\n",
        "    if not less_than:\n",
        "        confidence = 1 - confidence\n",
        "\n",
        "    sens = list()\n",
        "    spec = list()\n",
        "    fpr = list()\n",
        "    f1 = list()\n",
        "    prec = list()\n",
        "    cm_list = list()\n",
        "    anomaly_indexes_dict = dict()\n",
        "    acc_with_err = list()\n",
        "    for threshold in thresholds:\n",
        "        df_not_confident = df_dataset[confidence <= threshold]\n",
        "        tp = 0\n",
        "        anomaly_indexes = list()\n",
        "        for anomaly in anomaly_start_timestamps:\n",
        "            for index, row in df_not_confident.iterrows():\n",
        "                if anomaly >= row['start'] and anomaly <= row['end']:\n",
        "                    anomaly_indexes.append(index)\n",
        "                    tp += 1\n",
        "\n",
        "        cm_anomaly = np.zeros((2, 2))\n",
        "        n_samples = len(df_dataset)\n",
        "        n_not_collisions = n_samples - len(anomaly_start_timestamps)\n",
        "        n_detected = len(df_not_confident)\n",
        "\n",
        "        fp = n_detected - tp\n",
        "        fn = len(anomaly_start_timestamps) - tp\n",
        "        tn = n_not_collisions - fp\n",
        "\n",
        "        cm_anomaly[0][0] = tn\n",
        "        cm_anomaly[1][1] = tp\n",
        "        cm_anomaly[0][1] = fp\n",
        "        cm_anomaly[1][0] = fn\n",
        "        cm_list.append(cm_anomaly)\n",
        "        sens.append(tp / (tp + fn))\n",
        "        recall = tp / (tp + fn)\n",
        "        prec.append(tp / (tp + fp))\n",
        "        spec.append(tn / (fp + tn))\n",
        "        fpr.append(1 - tn / (fp + tn))\n",
        "        try:\n",
        "            f1.append(2 * tp / (2 * tp + fp + fn) )\n",
        "        except ZeroDivisionError:\n",
        "            f1.append(0)\n",
        "        cm_anomaly_norm = cm_anomaly.astype('float') / cm_anomaly.sum(axis=1)[:, np.newaxis]\n",
        "        acc_with_err.append((np.mean(np.diag(cm_anomaly_norm)),\n",
        "                            np.std(np.diag(cm_anomaly_norm))))\n",
        "\n",
        "\n",
        "        anomaly_indexes_dict[threshold] = anomaly_indexes\n",
        "    return sens, spec, fpr, f1, cm_list, anomaly_indexes_dict, acc_with_err, prec"
      ]
    },
    {
      "cell_type": "markdown",
      "metadata": {
        "id": "dkZT_TOlRvaC"
      },
      "source": [
        "# **TODO** Compute uncertainty"
      ]
    },
    {
      "cell_type": "code",
      "execution_count": 109,
      "metadata": {
        "colab": {
          "base_uri": "https://localhost:8080/"
        },
        "id": "6i80mhnsnWV2",
        "outputId": "ad7eaf6c-db21-4402-d400-3fc142c036d0"
      },
      "outputs": [],
      "source": [
        "n_mc = 10\n",
        "preds_array = np.array([classifier.predict_proba(X_test.values) for _ in range(n_mc)])\n",
        "preds_bayes_mean = np.mean(np.array(preds_array), axis = 0)"
      ]
    },
    {
      "cell_type": "code",
      "execution_count": 110,
      "metadata": {},
      "outputs": [
        {
          "data": {
            "text/plain": [
              "array([[[0.01, 0.  , 0.  , ..., 0.  , 0.  , 0.  ],\n",
              "        [0.  , 0.55, 0.05, ..., 0.  , 0.  , 0.  ],\n",
              "        [0.  , 0.  , 0.  , ..., 0.  , 0.  , 0.  ],\n",
              "        ...,\n",
              "        [0.  , 0.  , 0.  , ..., 0.  , 0.  , 0.  ],\n",
              "        [0.  , 0.63, 0.03, ..., 0.01, 0.  , 0.  ],\n",
              "        [0.  , 0.04, 0.  , ..., 0.  , 0.  , 0.  ]],\n",
              "\n",
              "       [[0.01, 0.  , 0.  , ..., 0.  , 0.  , 0.  ],\n",
              "        [0.  , 0.55, 0.05, ..., 0.  , 0.  , 0.  ],\n",
              "        [0.  , 0.  , 0.  , ..., 0.  , 0.  , 0.  ],\n",
              "        ...,\n",
              "        [0.  , 0.  , 0.  , ..., 0.  , 0.  , 0.  ],\n",
              "        [0.  , 0.63, 0.03, ..., 0.01, 0.  , 0.  ],\n",
              "        [0.  , 0.04, 0.  , ..., 0.  , 0.  , 0.  ]],\n",
              "\n",
              "       [[0.01, 0.  , 0.  , ..., 0.  , 0.  , 0.  ],\n",
              "        [0.  , 0.55, 0.05, ..., 0.  , 0.  , 0.  ],\n",
              "        [0.  , 0.  , 0.  , ..., 0.  , 0.  , 0.  ],\n",
              "        ...,\n",
              "        [0.  , 0.  , 0.  , ..., 0.  , 0.  , 0.  ],\n",
              "        [0.  , 0.63, 0.03, ..., 0.01, 0.  , 0.  ],\n",
              "        [0.  , 0.04, 0.  , ..., 0.  , 0.  , 0.  ]],\n",
              "\n",
              "       ...,\n",
              "\n",
              "       [[0.01, 0.  , 0.  , ..., 0.  , 0.  , 0.  ],\n",
              "        [0.  , 0.55, 0.05, ..., 0.  , 0.  , 0.  ],\n",
              "        [0.  , 0.  , 0.  , ..., 0.  , 0.  , 0.  ],\n",
              "        ...,\n",
              "        [0.  , 0.  , 0.  , ..., 0.  , 0.  , 0.  ],\n",
              "        [0.  , 0.63, 0.03, ..., 0.01, 0.  , 0.  ],\n",
              "        [0.  , 0.04, 0.  , ..., 0.  , 0.  , 0.  ]],\n",
              "\n",
              "       [[0.01, 0.  , 0.  , ..., 0.  , 0.  , 0.  ],\n",
              "        [0.  , 0.55, 0.05, ..., 0.  , 0.  , 0.  ],\n",
              "        [0.  , 0.  , 0.  , ..., 0.  , 0.  , 0.  ],\n",
              "        ...,\n",
              "        [0.  , 0.  , 0.  , ..., 0.  , 0.  , 0.  ],\n",
              "        [0.  , 0.63, 0.03, ..., 0.01, 0.  , 0.  ],\n",
              "        [0.  , 0.04, 0.  , ..., 0.  , 0.  , 0.  ]],\n",
              "\n",
              "       [[0.01, 0.  , 0.  , ..., 0.  , 0.  , 0.  ],\n",
              "        [0.  , 0.55, 0.05, ..., 0.  , 0.  , 0.  ],\n",
              "        [0.  , 0.  , 0.  , ..., 0.  , 0.  , 0.  ],\n",
              "        ...,\n",
              "        [0.  , 0.  , 0.  , ..., 0.  , 0.  , 0.  ],\n",
              "        [0.  , 0.63, 0.03, ..., 0.01, 0.  , 0.  ],\n",
              "        [0.  , 0.04, 0.  , ..., 0.  , 0.  , 0.  ]]])"
            ]
          },
          "execution_count": 110,
          "metadata": {},
          "output_type": "execute_result"
        }
      ],
      "source": [
        "preds_array"
      ]
    },
    {
      "cell_type": "code",
      "execution_count": 111,
      "metadata": {
        "colab": {
          "base_uri": "https://localhost:8080/"
        },
        "id": "5Qe_bl0Ypauk",
        "outputId": "b0108ce1-5b99-472c-825e-7749329f95df"
      },
      "outputs": [
        {
          "name": "stdout",
          "output_type": "stream",
          "text": [
            "Done entropy\n",
            "Done variance\n",
            "Done max_softmax_response\n",
            "Done entropy\n",
            "Done variance\n",
            "Done max_softmax_response\n",
            "Done entropy\n",
            "Done variance\n",
            "Done max_softmax_response\n"
          ]
        }
      ],
      "source": [
        "uncertainties_bayes = dict()\n",
        "uncertainties_bayes[\"correct\"] = Confidence(preds_array.mean(axis=0)[(preds_bayes_mean.argmax(axis=1) == y_test), :]).compute_uncertainty_metrics()\n",
        "uncertainties_bayes[\"wrong\"] = Confidence(preds_array.mean(axis=0)[(preds_bayes_mean.argmax(axis=1) != y_test), :]).compute_uncertainty_metrics()\n",
        "uncertainties_bayes[\"all\"] = Confidence(preds_array.mean(axis=0)).compute_uncertainty_metrics()"
      ]
    },
    {
      "cell_type": "code",
      "execution_count": 112,
      "metadata": {},
      "outputs": [
        {
          "data": {
            "text/plain": [
              "{'entropy': array([0.28064827, 1.        , 0.35251478, 0.5190925 , 0.03299771,\n",
              "        0.13375375, 0.53629371, 0.26159852, 0.41630767, 0.78687569,\n",
              "        0.7521839 , 0.2914829 , 0.5656807 , 0.98584767, 0.4281826 ,\n",
              "        0.22329242, 0.54694234, 0.47898087, 0.14947212, 0.62364372,\n",
              "        0.30349936, 0.80661234, 0.5139242 , 0.54332833, 0.62113315,\n",
              "        0.19546697, 0.40932881, 0.56839755, 0.42740321, 0.14947212,\n",
              "        0.72072825, 0.48012256, 0.05777188, 0.81665791, 0.97205534,\n",
              "        0.42413868, 0.7373246 , 0.86308191, 0.3076499 , 0.89104233,\n",
              "        0.56266485, 0.82301917, 0.18888618, 0.23105438, 0.41979276,\n",
              "        0.30092744, 0.18203991, 0.22654019, 0.77675189, 0.43199743,\n",
              "        0.35724928, 0.30100044, 0.34449432, 0.34916671, 0.03299771,\n",
              "        0.60242435, 0.70645803, 0.39648463, 0.94847177, 0.07940223,\n",
              "        0.39856812, 0.93973334, 0.16950525, 0.33573965, 0.38070267,\n",
              "        0.85259487, 0.46460611, 0.89772095, 0.41322399, 0.78957984,\n",
              "        0.66007085, 0.95248724, 0.24911088, 0.        , 0.06593589,\n",
              "        0.31260869, 0.24218682, 0.74891639, 0.99156757, 0.        ,\n",
              "        0.42916755, 0.71421408, 0.48341781, 0.2946275 , 0.45784165,\n",
              "        0.20637963, 0.18891696, 0.24310234, 0.        , 0.61613669,\n",
              "        0.27514898, 0.40607541, 0.48093414, 0.28654175, 0.80569843,\n",
              "        0.45725651, 0.44298576, 0.09881393, 0.17828988, 0.24698262,\n",
              "        0.18888618, 0.1562231 , 0.89412679, 0.3105188 , 0.96021588,\n",
              "        0.25573728, 0.61347643, 0.5615459 , 0.5487919 , 0.47042477,\n",
              "        0.31124173, 0.25599791, 0.71365017, 0.77085084, 0.22945978,\n",
              "        0.43771603, 0.33656897, 0.09064992, 0.        , 0.29626889,\n",
              "        0.        , 0.50743057, 0.14497541, 0.67952751, 0.2473824 ,\n",
              "        0.23921839, 0.91013371, 0.71885679, 0.37625304, 0.16441903,\n",
              "        0.24779624, 0.83976958, 0.        , 0.66815834, 0.54160882,\n",
              "        0.30458829, 0.46151655, 0.84841778, 0.85592109, 0.73473749,\n",
              "        0.5849097 , 0.63267593, 0.6840886 , 0.06593589, 0.90187432,\n",
              "        0.48345568, 0.53468734, 0.3320204 , 0.61441457, 0.20671466,\n",
              "        0.31060615, 0.09064992, 0.11221951, 0.29533534, 0.53861723,\n",
              "        0.13172517, 0.20213642, 0.69481098, 0.62891512, 0.62240765,\n",
              "        0.4936534 , 0.840227  , 0.34478699, 0.28033354, 0.78740971,\n",
              "        0.5841088 , 0.35216306, 0.45268053, 0.62373389, 0.52267489,\n",
              "        0.61843047, 0.48499316, 0.98018993, 0.74625155, 0.        ,\n",
              "        0.86604728, 0.27540961, 0.38454948, 0.62485129, 0.43135352,\n",
              "        0.32794024, 0.24715944, 0.30349936, 0.51358962, 0.48714488,\n",
              "        0.79478149, 0.64904032, 0.48050621, 0.62561226, 0.14497541,\n",
              "        0.41923919, 0.51974345, 0.09881393, 0.18203991, 0.76369191,\n",
              "        0.21030043, 0.86766749, 0.19695605, 0.9360005 , 0.58994326,\n",
              "        0.81157996, 0.24911088, 0.51258261, 0.34500363, 0.11221951,\n",
              "        0.25411591, 0.57449583, 0.72908525, 0.32657342, 0.33890694,\n",
              "        0.66314277, 0.51062934, 0.89883441, 0.03299771, 0.25987742,\n",
              "        0.35265244, 0.75841543, 0.34448843, 0.33725282, 0.86703999,\n",
              "        0.97932592, 0.06593589, 0.54476015, 0.38426709, 0.09896928,\n",
              "        0.58923756, 0.37971019, 0.13375375, 0.84901756, 0.64385404,\n",
              "        0.35559846, 0.44792059, 0.19678606, 0.11221951, 0.05777188,\n",
              "        0.        , 0.46016379, 0.5746846 , 0.61127281, 0.22922503,\n",
              "        0.25625726, 0.74675993, 0.68698918]),\n",
              " 'variance': array([0.66087196, 0.07781457, 0.62996689, 0.44232892, 0.97268212,\n",
              "        0.84437086, 0.47268212, 0.72240618, 0.60099338, 0.16197572,\n",
              "        0.18322296, 0.7406181 , 0.3165011 , 0.05601545, 0.62196468,\n",
              "        0.76848786, 0.38796909, 0.48565121, 0.82036424, 0.2709713 ,\n",
              "        0.69646799, 0.19839956, 0.40728477, 0.51131347, 0.31705298,\n",
              "        0.79277042, 0.64459161, 0.37886313, 0.50027594, 0.82036424,\n",
              "        0.28532009, 0.45529801, 0.94591611, 0.16887417, 0.09326711,\n",
              "        0.54690949, 0.24227373, 0.13300221, 0.6763245 , 0.20419426,\n",
              "        0.31153422, 0.21357616, 0.8165011 , 0.76738411, 0.50993377,\n",
              "        0.65783664, 0.79497792, 0.79056291, 0.29690949, 0.52428256,\n",
              "        0.64817881, 0.69564018, 0.66997792, 0.67025386, 0.97268212,\n",
              "        0.36258278, 0.23979029, 0.50524283, 0.15700883, 0.91970199,\n",
              "        0.51352097, 0.06760486, 0.84133554, 0.67246137, 0.5888521 ,\n",
              "        0.17108168, 0.57698675, 0.16445916, 0.60182119, 0.14845475,\n",
              "        0.39155629, 0.0830574 , 0.64817881, 1.        , 0.94564018,\n",
              "        0.71661148, 0.723234  , 0.25662252, 0.08857616, 1.        ,\n",
              "        0.52538631, 0.22488962, 0.48344371, 0.6214128 , 0.46909492,\n",
              "        0.77014349, 0.84050773, 0.72461369, 1.        , 0.34988962,\n",
              "        0.74172185, 0.56401766, 0.57643488, 0.57533113, 0.21550773,\n",
              "        0.55794702, 0.52207506, 0.91887417, 0.77400662, 0.74503311,\n",
              "        0.8165011 , 0.86644592, 0.14790287, 0.52649007, 0.08002208,\n",
              "        0.74254967, 0.37775938, 0.45336645, 0.41997792, 0.50027594,\n",
              "        0.67384106, 0.70115894, 0.2044702 , 0.26600442, 0.76738411,\n",
              "        0.60099338, 0.59547461, 0.91915011, 1.        , 0.71881898,\n",
              "        1.        , 0.35292494, 0.86699779, 0.26986755, 0.76683223,\n",
              "        0.76710817, 0.17577263, 0.22654525, 0.64707506, 0.84188742,\n",
              "        0.76600442, 0.0830574 , 1.        , 0.20557395, 0.42273731,\n",
              "        0.63769316, 0.57836645, 0.10292494, 0.22268212, 0.17770419,\n",
              "        0.37086093, 0.2803532 , 0.35264901, 0.94564018, 0.0397351 ,\n",
              "        0.43377483, 0.47709713, 0.71578366, 0.42963576, 0.79221854,\n",
              "        0.71688742, 0.91915011, 0.89321192, 0.69674393, 0.32891832,\n",
              "        0.86782561, 0.81567329, 0.33581678, 0.3937638 , 0.42963576,\n",
              "        0.51545254, 0.14128035, 0.61423841, 0.67908389, 0.22847682,\n",
              "        0.46909492, 0.64873068, 0.62058499, 0.33278146, 0.25910596,\n",
              "        0.25965784, 0.49834437, 0.0736755 , 0.22792494, 1.        ,\n",
              "        0.19426049, 0.70033113, 0.60678808, 0.25248344, 0.58084989,\n",
              "        0.6307947 , 0.74365342, 0.69646799, 0.46412804, 0.48537528,\n",
              "        0.09988962, 0.32726269, 0.53559603, 0.41225166, 0.86699779,\n",
              "        0.50055188, 0.53311258, 0.91887417, 0.79497792, 0.31291391,\n",
              "        0.81539735, 0.00524283, 0.79249448, 0.08967991, 0.41528698,\n",
              "        0.23289183, 0.64817881, 0.44370861, 0.5794702 , 0.89321192,\n",
              "        0.78945916, 0.40011038, 0.34933775, 0.53669978, 0.65121413,\n",
              "        0.29359823, 0.43184327, 0.13796909, 0.97268212, 0.66418322,\n",
              "        0.67080574, 0.29828918, 0.67108168, 0.65011038, 0.19288079,\n",
              "        0.        , 0.94564018, 0.47350993, 0.62527594, 0.89403974,\n",
              "        0.4334989 , 0.57229581, 0.84437086, 0.03669978, 0.26903974,\n",
              "        0.62969095, 0.40286976, 0.77179912, 0.89321192, 0.94591611,\n",
              "        1.        , 0.5209713 , 0.41804636, 0.22516556, 0.74696468,\n",
              "        0.70281457, 0.23289183, 0.3388521 ]),\n",
              " 'max_softmax_response': array([0.77777778, 0.28571429, 0.76190476, 0.61904762, 0.98412698,\n",
              "        0.9047619 , 0.65079365, 0.82539683, 0.74603175, 0.33333333,\n",
              "        0.34920635, 0.84126984, 0.46031746, 0.23809524, 0.76190476,\n",
              "        0.85714286, 0.57142857, 0.65079365, 0.88888889, 0.41269841,\n",
              "        0.80952381, 0.3968254 , 0.57142857, 0.68253968, 0.50793651,\n",
              "        0.87301587, 0.77777778, 0.55555556, 0.65079365, 0.88888889,\n",
              "        0.49206349, 0.61904762, 0.96825397, 0.36507937, 0.3015873 ,\n",
              "        0.6984127 , 0.44444444, 0.33333333, 0.79365079, 0.42857143,\n",
              "        0.46031746, 0.42857143, 0.88888889, 0.85714286, 0.66666667,\n",
              "        0.77777778, 0.87301587, 0.87301587, 0.50793651, 0.68253968,\n",
              "        0.77777778, 0.80952381, 0.79365079, 0.79365079, 0.98412698,\n",
              "        0.55555556, 0.41269841, 0.65079365, 0.38095238, 0.95238095,\n",
              "        0.66666667, 0.25396825, 0.9047619 , 0.79365079, 0.73015873,\n",
              "        0.38095238, 0.73015873, 0.38095238, 0.74603175, 0.3015873 ,\n",
              "        0.58730159, 0.25396825, 0.76190476, 1.        , 0.96825397,\n",
              "        0.82539683, 0.82539683, 0.46031746, 0.3015873 , 1.        ,\n",
              "        0.68253968, 0.3968254 , 0.65079365, 0.74603175, 0.63492063,\n",
              "        0.85714286, 0.9047619 , 0.82539683, 1.        , 0.53968254,\n",
              "        0.84126984, 0.71428571, 0.73015873, 0.6984127 , 0.42857143,\n",
              "        0.71428571, 0.68253968, 0.95238095, 0.85714286, 0.84126984,\n",
              "        0.88888889, 0.92063492, 0.34920635, 0.65079365, 0.26984127,\n",
              "        0.84126984, 0.57142857, 0.63492063, 0.6031746 , 0.66666667,\n",
              "        0.79365079, 0.80952381, 0.36507937, 0.47619048, 0.85714286,\n",
              "        0.74603175, 0.73015873, 0.95238095, 1.        , 0.82539683,\n",
              "        1.        , 0.49206349, 0.92063492, 0.46031746, 0.85714286,\n",
              "        0.85714286, 0.3968254 , 0.41269841, 0.77777778, 0.9047619 ,\n",
              "        0.85714286, 0.19047619, 1.        , 0.31746032, 0.6031746 ,\n",
              "        0.76190476, 0.73015873, 0.23809524, 0.44444444, 0.31746032,\n",
              "        0.55555556, 0.44444444, 0.55555556, 0.96825397, 0.07936508,\n",
              "        0.6031746 , 0.65079365, 0.82539683, 0.61904762, 0.87301587,\n",
              "        0.82539683, 0.95238095, 0.93650794, 0.80952381, 0.47619048,\n",
              "        0.92063492, 0.88888889, 0.53968254, 0.58730159, 0.61904762,\n",
              "        0.68253968, 0.33333333, 0.74603175, 0.79365079, 0.42857143,\n",
              "        0.65079365, 0.77777778, 0.76190476, 0.52380952, 0.22222222,\n",
              "        0.38095238, 0.66666667, 0.26984127, 0.42857143, 1.        ,\n",
              "        0.41269841, 0.80952381, 0.74603175, 0.38095238, 0.73015873,\n",
              "        0.76190476, 0.84126984, 0.80952381, 0.63492063, 0.65079365,\n",
              "        0.14285714, 0.52380952, 0.6984127 , 0.6031746 , 0.92063492,\n",
              "        0.65079365, 0.6984127 , 0.95238095, 0.87301587, 0.52380952,\n",
              "        0.88888889, 0.        , 0.87301587, 0.28571429, 0.6031746 ,\n",
              "        0.44444444, 0.76190476, 0.61904762, 0.71428571, 0.93650794,\n",
              "        0.87301587, 0.58730159, 0.55555556, 0.66666667, 0.77777778,\n",
              "        0.49206349, 0.6031746 , 0.33333333, 0.98412698, 0.77777778,\n",
              "        0.79365079, 0.50793651, 0.79365079, 0.77777778, 0.41269841,\n",
              "        0.11111111, 0.96825397, 0.65079365, 0.76190476, 0.93650794,\n",
              "        0.61904762, 0.71428571, 0.9047619 , 0.07936508, 0.46031746,\n",
              "        0.76190476, 0.53968254, 0.85714286, 0.93650794, 0.96825397,\n",
              "        1.        , 0.68253968, 0.6031746 , 0.3015873 , 0.84126984,\n",
              "        0.80952381, 0.41269841, 0.53968254])}"
            ]
          },
          "execution_count": 112,
          "metadata": {},
          "output_type": "execute_result"
        }
      ],
      "source": [
        "uncertainties_bayes[\"correct\"]"
      ]
    },
    {
      "cell_type": "code",
      "execution_count": 113,
      "metadata": {
        "colab": {
          "base_uri": "https://localhost:8080/",
          "height": 718
        },
        "id": "B-R64RsBpt5s",
        "outputId": "89d9009f-ecbb-4ae9-84d7-01a3252576ce"
      },
      "outputs": [
        {
          "ename": "ValueError",
          "evalue": "autodetected range of [nan, nan] is not finite",
          "output_type": "error",
          "traceback": [
            "\u001b[1;31m---------------------------------------------------------------------------\u001b[0m",
            "\u001b[1;31mValueError\u001b[0m                                Traceback (most recent call last)",
            "Cell \u001b[1;32mIn[113], line 4\u001b[0m\n\u001b[0;32m      2\u001b[0m \u001b[38;5;28;01mfor\u001b[39;00m ax, measure \u001b[38;5;129;01min\u001b[39;00m \u001b[38;5;28mzip\u001b[39m(axes, uncertainties_bayes[\u001b[38;5;124m'\u001b[39m\u001b[38;5;124mcorrect\u001b[39m\u001b[38;5;124m'\u001b[39m]\u001b[38;5;241m.\u001b[39mkeys()):\n\u001b[0;32m      3\u001b[0m     ax[\u001b[38;5;241m0\u001b[39m]\u001b[38;5;241m.\u001b[39mset_title(\u001b[38;5;124mf\u001b[39m\u001b[38;5;124m\"\u001b[39m\u001b[38;5;124mWrong - \u001b[39m\u001b[38;5;132;01m{\u001b[39;00mmeasure\u001b[38;5;132;01m}\u001b[39;00m\u001b[38;5;124m\"\u001b[39m)\n\u001b[1;32m----> 4\u001b[0m     \u001b[43max\u001b[49m\u001b[43m[\u001b[49m\u001b[38;5;241;43m0\u001b[39;49m\u001b[43m]\u001b[49m\u001b[38;5;241;43m.\u001b[39;49m\u001b[43mhist\u001b[49m\u001b[43m(\u001b[49m\u001b[43muncertainties_bayes\u001b[49m\u001b[43m[\u001b[49m\u001b[38;5;124;43m'\u001b[39;49m\u001b[38;5;124;43mwrong\u001b[39;49m\u001b[38;5;124;43m'\u001b[39;49m\u001b[43m]\u001b[49m\u001b[43m[\u001b[49m\u001b[43mmeasure\u001b[49m\u001b[43m]\u001b[49m\u001b[43m,\u001b[49m\u001b[43m \u001b[49m\u001b[43mcolor\u001b[49m\u001b[38;5;241;43m=\u001b[39;49m\u001b[38;5;124;43m\"\u001b[39;49m\u001b[38;5;124;43mred\u001b[39;49m\u001b[38;5;124;43m\"\u001b[39;49m\u001b[43m,\u001b[49m\u001b[43m \u001b[49m\u001b[43mlog\u001b[49m\u001b[38;5;241;43m=\u001b[39;49m\u001b[38;5;28;43;01mFalse\u001b[39;49;00m\u001b[43m,\u001b[49m\u001b[43m \u001b[49m\u001b[43mbins\u001b[49m\u001b[38;5;241;43m=\u001b[39;49m\u001b[38;5;241;43m25\u001b[39;49m\u001b[43m,\u001b[49m\u001b[43m \u001b[49m\u001b[43medgecolor\u001b[49m\u001b[38;5;241;43m=\u001b[39;49m\u001b[38;5;124;43m'\u001b[39;49m\u001b[38;5;124;43mblack\u001b[39;49m\u001b[38;5;124;43m'\u001b[39;49m\u001b[43m,\u001b[49m\u001b[43m \u001b[49m\u001b[43mlinewidth\u001b[49m\u001b[38;5;241;43m=\u001b[39;49m\u001b[38;5;241;43m1.2\u001b[39;49m\u001b[43m,\u001b[49m\u001b[43m \u001b[49m\u001b[43malpha\u001b[49m\u001b[38;5;241;43m=\u001b[39;49m\u001b[38;5;241;43m0.5\u001b[39;49m\u001b[43m)\u001b[49m;\n\u001b[0;32m      5\u001b[0m     ax[\u001b[38;5;241m1\u001b[39m]\u001b[38;5;241m.\u001b[39mset_title(\u001b[38;5;124mf\u001b[39m\u001b[38;5;124m\"\u001b[39m\u001b[38;5;124mCorrect - \u001b[39m\u001b[38;5;132;01m{\u001b[39;00mmeasure\u001b[38;5;132;01m}\u001b[39;00m\u001b[38;5;124m\"\u001b[39m)\n\u001b[0;32m      6\u001b[0m     ax[\u001b[38;5;241m1\u001b[39m]\u001b[38;5;241m.\u001b[39mhist(uncertainties_bayes[\u001b[38;5;124m'\u001b[39m\u001b[38;5;124mcorrect\u001b[39m\u001b[38;5;124m'\u001b[39m][measure], color\u001b[38;5;241m=\u001b[39m\u001b[38;5;124m\"\u001b[39m\u001b[38;5;124mgreen\u001b[39m\u001b[38;5;124m\"\u001b[39m, log\u001b[38;5;241m=\u001b[39m\u001b[38;5;28;01mFalse\u001b[39;00m, bins\u001b[38;5;241m=\u001b[39m\u001b[38;5;241m25\u001b[39m, edgecolor\u001b[38;5;241m=\u001b[39m\u001b[38;5;124m'\u001b[39m\u001b[38;5;124mblack\u001b[39m\u001b[38;5;124m'\u001b[39m, linewidth\u001b[38;5;241m=\u001b[39m\u001b[38;5;241m1.2\u001b[39m, alpha\u001b[38;5;241m=\u001b[39m\u001b[38;5;241m0.5\u001b[39m);\n",
            "File \u001b[1;32md:\\Dati\\Users\\Desktop\\Poli\\V\\MLiA\\Project\\gabri_test\\MLinAPP-FP01-14\\venv\\Lib\\site-packages\\matplotlib\\__init__.py:1486\u001b[0m, in \u001b[0;36m_preprocess_data.<locals>.inner\u001b[1;34m(ax, data, *args, **kwargs)\u001b[0m\n\u001b[0;32m   1483\u001b[0m \u001b[38;5;129m@functools\u001b[39m\u001b[38;5;241m.\u001b[39mwraps(func)\n\u001b[0;32m   1484\u001b[0m \u001b[38;5;28;01mdef\u001b[39;00m \u001b[38;5;21minner\u001b[39m(ax, \u001b[38;5;241m*\u001b[39margs, data\u001b[38;5;241m=\u001b[39m\u001b[38;5;28;01mNone\u001b[39;00m, \u001b[38;5;241m*\u001b[39m\u001b[38;5;241m*\u001b[39mkwargs):\n\u001b[0;32m   1485\u001b[0m     \u001b[38;5;28;01mif\u001b[39;00m data \u001b[38;5;129;01mis\u001b[39;00m \u001b[38;5;28;01mNone\u001b[39;00m:\n\u001b[1;32m-> 1486\u001b[0m         \u001b[38;5;28;01mreturn\u001b[39;00m \u001b[43mfunc\u001b[49m\u001b[43m(\u001b[49m\n\u001b[0;32m   1487\u001b[0m \u001b[43m            \u001b[49m\u001b[43max\u001b[49m\u001b[43m,\u001b[49m\n\u001b[0;32m   1488\u001b[0m \u001b[43m            \u001b[49m\u001b[38;5;241;43m*\u001b[39;49m\u001b[38;5;28;43mmap\u001b[39;49m\u001b[43m(\u001b[49m\u001b[43msanitize_sequence\u001b[49m\u001b[43m,\u001b[49m\u001b[43m \u001b[49m\u001b[43margs\u001b[49m\u001b[43m)\u001b[49m\u001b[43m,\u001b[49m\n\u001b[0;32m   1489\u001b[0m \u001b[43m            \u001b[49m\u001b[38;5;241;43m*\u001b[39;49m\u001b[38;5;241;43m*\u001b[39;49m\u001b[43m{\u001b[49m\u001b[43mk\u001b[49m\u001b[43m:\u001b[49m\u001b[43m \u001b[49m\u001b[43msanitize_sequence\u001b[49m\u001b[43m(\u001b[49m\u001b[43mv\u001b[49m\u001b[43m)\u001b[49m\u001b[43m \u001b[49m\u001b[38;5;28;43;01mfor\u001b[39;49;00m\u001b[43m \u001b[49m\u001b[43mk\u001b[49m\u001b[43m,\u001b[49m\u001b[43m \u001b[49m\u001b[43mv\u001b[49m\u001b[43m \u001b[49m\u001b[38;5;129;43;01min\u001b[39;49;00m\u001b[43m \u001b[49m\u001b[43mkwargs\u001b[49m\u001b[38;5;241;43m.\u001b[39;49m\u001b[43mitems\u001b[49m\u001b[43m(\u001b[49m\u001b[43m)\u001b[49m\u001b[43m}\u001b[49m\u001b[43m)\u001b[49m\n\u001b[0;32m   1491\u001b[0m     bound \u001b[38;5;241m=\u001b[39m new_sig\u001b[38;5;241m.\u001b[39mbind(ax, \u001b[38;5;241m*\u001b[39margs, \u001b[38;5;241m*\u001b[39m\u001b[38;5;241m*\u001b[39mkwargs)\n\u001b[0;32m   1492\u001b[0m     auto_label \u001b[38;5;241m=\u001b[39m (bound\u001b[38;5;241m.\u001b[39marguments\u001b[38;5;241m.\u001b[39mget(label_namer)\n\u001b[0;32m   1493\u001b[0m                   \u001b[38;5;129;01mor\u001b[39;00m bound\u001b[38;5;241m.\u001b[39mkwargs\u001b[38;5;241m.\u001b[39mget(label_namer))\n",
            "File \u001b[1;32md:\\Dati\\Users\\Desktop\\Poli\\V\\MLiA\\Project\\gabri_test\\MLinAPP-FP01-14\\venv\\Lib\\site-packages\\matplotlib\\axes\\_axes.py:7001\u001b[0m, in \u001b[0;36mAxes.hist\u001b[1;34m(self, x, bins, range, density, weights, cumulative, bottom, histtype, align, orientation, rwidth, log, color, label, stacked, **kwargs)\u001b[0m\n\u001b[0;32m   6997\u001b[0m \u001b[38;5;66;03m# Loop through datasets\u001b[39;00m\n\u001b[0;32m   6998\u001b[0m \u001b[38;5;28;01mfor\u001b[39;00m i \u001b[38;5;129;01min\u001b[39;00m \u001b[38;5;28mrange\u001b[39m(nx):\n\u001b[0;32m   6999\u001b[0m     \u001b[38;5;66;03m# this will automatically overwrite bins,\u001b[39;00m\n\u001b[0;32m   7000\u001b[0m     \u001b[38;5;66;03m# so that each histogram uses the same bins\u001b[39;00m\n\u001b[1;32m-> 7001\u001b[0m     m, bins \u001b[38;5;241m=\u001b[39m \u001b[43mnp\u001b[49m\u001b[38;5;241;43m.\u001b[39;49m\u001b[43mhistogram\u001b[49m\u001b[43m(\u001b[49m\u001b[43mx\u001b[49m\u001b[43m[\u001b[49m\u001b[43mi\u001b[49m\u001b[43m]\u001b[49m\u001b[43m,\u001b[49m\u001b[43m \u001b[49m\u001b[43mbins\u001b[49m\u001b[43m,\u001b[49m\u001b[43m \u001b[49m\u001b[43mweights\u001b[49m\u001b[38;5;241;43m=\u001b[39;49m\u001b[43mw\u001b[49m\u001b[43m[\u001b[49m\u001b[43mi\u001b[49m\u001b[43m]\u001b[49m\u001b[43m,\u001b[49m\u001b[43m \u001b[49m\u001b[38;5;241;43m*\u001b[39;49m\u001b[38;5;241;43m*\u001b[39;49m\u001b[43mhist_kwargs\u001b[49m\u001b[43m)\u001b[49m\n\u001b[0;32m   7002\u001b[0m     tops\u001b[38;5;241m.\u001b[39mappend(m)\n\u001b[0;32m   7003\u001b[0m tops \u001b[38;5;241m=\u001b[39m np\u001b[38;5;241m.\u001b[39marray(tops, \u001b[38;5;28mfloat\u001b[39m)  \u001b[38;5;66;03m# causes problems later if it's an int\u001b[39;00m\n",
            "File \u001b[1;32md:\\Dati\\Users\\Desktop\\Poli\\V\\MLiA\\Project\\gabri_test\\MLinAPP-FP01-14\\venv\\Lib\\site-packages\\numpy\\lib\\histograms.py:780\u001b[0m, in \u001b[0;36mhistogram\u001b[1;34m(a, bins, range, density, weights)\u001b[0m\n\u001b[0;32m    680\u001b[0m \u001b[38;5;250m\u001b[39m\u001b[38;5;124mr\u001b[39m\u001b[38;5;124;03m\"\"\"\u001b[39;00m\n\u001b[0;32m    681\u001b[0m \u001b[38;5;124;03mCompute the histogram of a dataset.\u001b[39;00m\n\u001b[0;32m    682\u001b[0m \n\u001b[1;32m   (...)\u001b[0m\n\u001b[0;32m    776\u001b[0m \n\u001b[0;32m    777\u001b[0m \u001b[38;5;124;03m\"\"\"\u001b[39;00m\n\u001b[0;32m    778\u001b[0m a, weights \u001b[38;5;241m=\u001b[39m _ravel_and_check_weights(a, weights)\n\u001b[1;32m--> 780\u001b[0m bin_edges, uniform_bins \u001b[38;5;241m=\u001b[39m \u001b[43m_get_bin_edges\u001b[49m\u001b[43m(\u001b[49m\u001b[43ma\u001b[49m\u001b[43m,\u001b[49m\u001b[43m \u001b[49m\u001b[43mbins\u001b[49m\u001b[43m,\u001b[49m\u001b[43m \u001b[49m\u001b[38;5;28;43mrange\u001b[39;49m\u001b[43m,\u001b[49m\u001b[43m \u001b[49m\u001b[43mweights\u001b[49m\u001b[43m)\u001b[49m\n\u001b[0;32m    782\u001b[0m \u001b[38;5;66;03m# Histogram is an integer or a float array depending on the weights.\u001b[39;00m\n\u001b[0;32m    783\u001b[0m \u001b[38;5;28;01mif\u001b[39;00m weights \u001b[38;5;129;01mis\u001b[39;00m \u001b[38;5;28;01mNone\u001b[39;00m:\n",
            "File \u001b[1;32md:\\Dati\\Users\\Desktop\\Poli\\V\\MLiA\\Project\\gabri_test\\MLinAPP-FP01-14\\venv\\Lib\\site-packages\\numpy\\lib\\histograms.py:426\u001b[0m, in \u001b[0;36m_get_bin_edges\u001b[1;34m(a, bins, range, weights)\u001b[0m\n\u001b[0;32m    423\u001b[0m     \u001b[38;5;28;01mif\u001b[39;00m n_equal_bins \u001b[38;5;241m<\u001b[39m \u001b[38;5;241m1\u001b[39m:\n\u001b[0;32m    424\u001b[0m         \u001b[38;5;28;01mraise\u001b[39;00m \u001b[38;5;167;01mValueError\u001b[39;00m(\u001b[38;5;124m'\u001b[39m\u001b[38;5;124m`bins` must be positive, when an integer\u001b[39m\u001b[38;5;124m'\u001b[39m)\n\u001b[1;32m--> 426\u001b[0m     first_edge, last_edge \u001b[38;5;241m=\u001b[39m \u001b[43m_get_outer_edges\u001b[49m\u001b[43m(\u001b[49m\u001b[43ma\u001b[49m\u001b[43m,\u001b[49m\u001b[43m \u001b[49m\u001b[38;5;28;43mrange\u001b[39;49m\u001b[43m)\u001b[49m\n\u001b[0;32m    428\u001b[0m \u001b[38;5;28;01melif\u001b[39;00m np\u001b[38;5;241m.\u001b[39mndim(bins) \u001b[38;5;241m==\u001b[39m \u001b[38;5;241m1\u001b[39m:\n\u001b[0;32m    429\u001b[0m     bin_edges \u001b[38;5;241m=\u001b[39m np\u001b[38;5;241m.\u001b[39masarray(bins)\n",
            "File \u001b[1;32md:\\Dati\\Users\\Desktop\\Poli\\V\\MLiA\\Project\\gabri_test\\MLinAPP-FP01-14\\venv\\Lib\\site-packages\\numpy\\lib\\histograms.py:323\u001b[0m, in \u001b[0;36m_get_outer_edges\u001b[1;34m(a, range)\u001b[0m\n\u001b[0;32m    321\u001b[0m     first_edge, last_edge \u001b[38;5;241m=\u001b[39m a\u001b[38;5;241m.\u001b[39mmin(), a\u001b[38;5;241m.\u001b[39mmax()\n\u001b[0;32m    322\u001b[0m     \u001b[38;5;28;01mif\u001b[39;00m \u001b[38;5;129;01mnot\u001b[39;00m (np\u001b[38;5;241m.\u001b[39misfinite(first_edge) \u001b[38;5;129;01mand\u001b[39;00m np\u001b[38;5;241m.\u001b[39misfinite(last_edge)):\n\u001b[1;32m--> 323\u001b[0m         \u001b[38;5;28;01mraise\u001b[39;00m \u001b[38;5;167;01mValueError\u001b[39;00m(\n\u001b[0;32m    324\u001b[0m             \u001b[38;5;124m\"\u001b[39m\u001b[38;5;124mautodetected range of [\u001b[39m\u001b[38;5;132;01m{}\u001b[39;00m\u001b[38;5;124m, \u001b[39m\u001b[38;5;132;01m{}\u001b[39;00m\u001b[38;5;124m] is not finite\u001b[39m\u001b[38;5;124m\"\u001b[39m\u001b[38;5;241m.\u001b[39mformat(first_edge, last_edge))\n\u001b[0;32m    326\u001b[0m \u001b[38;5;66;03m# expand empty range to avoid divide by zero\u001b[39;00m\n\u001b[0;32m    327\u001b[0m \u001b[38;5;28;01mif\u001b[39;00m first_edge \u001b[38;5;241m==\u001b[39m last_edge:\n",
            "\u001b[1;31mValueError\u001b[0m: autodetected range of [nan, nan] is not finite"
          ]
        },
        {
          "data": {
            "image/png": "[encoded data removed]",
            "text/plain": [
              "<Figure size 1500x900 with 9 Axes>"
            ]
          },
          "metadata": {},
          "output_type": "display_data"
        }
      ],
      "source": [
        "fig, axes = plt.subplots(len(uncertainties_bayes['correct'].keys()), 3, figsize=(15, 9))\n",
        "for ax, measure in zip(axes, uncertainties_bayes['correct'].keys()):\n",
        "    ax[0].set_title(f\"Wrong - {measure}\")\n",
        "    ax[0].hist(uncertainties_bayes['wrong'][measure], color=\"red\", log=False, bins=25, edgecolor='black', linewidth=1.2, alpha=0.5);\n",
        "    ax[1].set_title(f\"Correct - {measure}\")\n",
        "    ax[1].hist(uncertainties_bayes['correct'][measure], color=\"green\", log=False, bins=25, edgecolor='black', linewidth=1.2, alpha=0.5);\n",
        "    ax[2].set_title(f\"All - {measure}\")\n",
        "    ax[2].hist(uncertainties_bayes['all'][measure], color=\"blue\", log=False, bins=25, edgecolor='black', linewidth=1.2, alpha=0.5);\n",
        "fig.suptitle(\"Bayes MLP\", fontsize=20)\n",
        "plt.tight_layout()"
      ]
    },
    {
      "cell_type": "markdown",
      "metadata": {
        "id": "-L0JBb09p9ws"
      },
      "source": [
        "# Load collisions and extract features"
      ]
    },
    {
      "cell_type": "code",
      "execution_count": null,
      "metadata": {
        "id": "DuHUyti8pyXs"
      },
      "outputs": [],
      "source": [
        "# ROOTDIR_DATASET_ANOMALY = \"/content/drive/MyDrive/collisions\""
      ]
    },
    {
      "cell_type": "code",
      "execution_count": null,
      "metadata": {
        "colab": {
          "base_uri": "https://localhost:8080/"
        },
        "id": "gEyk_PFIq5Qj",
        "outputId": "6fa70a2a-9786-4177-b320-a8329a97aa6d"
      },
      "outputs": [],
      "source": [
        "# !ls {ROOTDIR_DATASET_ANOMALY}"
      ]
    },
    {
      "cell_type": "markdown",
      "metadata": {
        "id": "iyr0JdXRrOe9"
      },
      "source": [
        "Note that we have a discrepancy between time in the lab where the data were collected and the PC which stored them. This line fix it."
      ]
    },
    {
      "cell_type": "code",
      "execution_count": null,
      "metadata": {
        "id": "Pv9y50Wzq1Iz"
      },
      "outputs": [],
      "source": [
        "collisions = pd.read_excel(os.path.join(ROOTDIR_DATASET_ANOMALY, \"20220811_collisions_timestamp.xlsx\"))\n",
        "collisions_init = collisions[collisions['Inizio/fine'] == \"i\"].Timestamp - pd.to_timedelta([2] * len(collisions[collisions['Inizio/fine'] == \"i\"].Timestamp), 'h')"
      ]
    },
    {
      "cell_type": "code",
      "execution_count": null,
      "metadata": {
        "colab": {
          "base_uri": "https://localhost:8080/",
          "height": 423
        },
        "id": "7JyxbramN6PM",
        "outputId": "faf9ebd1-9756-4f5e-b779-8658e5df84d0"
      },
      "outputs": [
        {
          "data": {
            "text/html": [
              "<div>\n",
              "<style scoped>\n",
              "    .dataframe tbody tr th:only-of-type {\n",
              "        vertical-align: middle;\n",
              "    }\n",
              "\n",
              "    .dataframe tbody tr th {\n",
              "        vertical-align: top;\n",
              "    }\n",
              "\n",
              "    .dataframe thead th {\n",
              "        text-align: right;\n",
              "    }\n",
              "</style>\n",
              "<table border=\"1\" class=\"dataframe\">\n",
              "  <thead>\n",
              "    <tr style=\"text-align: right;\">\n",
              "      <th></th>\n",
              "      <th>Inizio/fine</th>\n",
              "      <th>Timestamp</th>\n",
              "    </tr>\n",
              "  </thead>\n",
              "  <tbody>\n",
              "    <tr>\n",
              "      <th>0</th>\n",
              "      <td>i</td>\n",
              "      <td>2022-08-11 16:02:17.450</td>\n",
              "    </tr>\n",
              "    <tr>\n",
              "      <th>1</th>\n",
              "      <td>f</td>\n",
              "      <td>2022-08-11 16:02:21.460</td>\n",
              "    </tr>\n",
              "    <tr>\n",
              "      <th>2</th>\n",
              "      <td>i</td>\n",
              "      <td>2022-08-11 16:02:28.320</td>\n",
              "    </tr>\n",
              "    <tr>\n",
              "      <th>3</th>\n",
              "      <td>f</td>\n",
              "      <td>2022-08-11 16:02:31.420</td>\n",
              "    </tr>\n",
              "    <tr>\n",
              "      <th>4</th>\n",
              "      <td>i</td>\n",
              "      <td>2022-08-11 16:02:45.770</td>\n",
              "    </tr>\n",
              "    <tr>\n",
              "      <th>...</th>\n",
              "      <td>...</td>\n",
              "      <td>...</td>\n",
              "    </tr>\n",
              "    <tr>\n",
              "      <th>97</th>\n",
              "      <td>f</td>\n",
              "      <td>2022-08-11 19:09:28.580</td>\n",
              "    </tr>\n",
              "    <tr>\n",
              "      <th>98</th>\n",
              "      <td>i</td>\n",
              "      <td>2022-08-11 19:09:38.750</td>\n",
              "    </tr>\n",
              "    <tr>\n",
              "      <th>99</th>\n",
              "      <td>f</td>\n",
              "      <td>2022-08-11 19:09:42.830</td>\n",
              "    </tr>\n",
              "    <tr>\n",
              "      <th>100</th>\n",
              "      <td>i</td>\n",
              "      <td>2022-08-11 19:09:53.950</td>\n",
              "    </tr>\n",
              "    <tr>\n",
              "      <th>101</th>\n",
              "      <td>f</td>\n",
              "      <td>2022-08-11 19:09:58.190</td>\n",
              "    </tr>\n",
              "  </tbody>\n",
              "</table>\n",
              "<p>102 rows × 2 columns</p>\n",
              "</div>"
            ],
            "text/plain": [
              "    Inizio/fine               Timestamp\n",
              "0             i 2022-08-11 16:02:17.450\n",
              "1             f 2022-08-11 16:02:21.460\n",
              "2             i 2022-08-11 16:02:28.320\n",
              "3             f 2022-08-11 16:02:31.420\n",
              "4             i 2022-08-11 16:02:45.770\n",
              "..          ...                     ...\n",
              "97            f 2022-08-11 19:09:28.580\n",
              "98            i 2022-08-11 19:09:38.750\n",
              "99            f 2022-08-11 19:09:42.830\n",
              "100           i 2022-08-11 19:09:53.950\n",
              "101           f 2022-08-11 19:09:58.190\n",
              "\n",
              "[102 rows x 2 columns]"
            ]
          },
          "execution_count": 64,
          "metadata": {},
          "output_type": "execute_result"
        }
      ],
      "source": [
        "collisions"
      ]
    },
    {
      "cell_type": "code",
      "execution_count": null,
      "metadata": {
        "colab": {
          "base_uri": "https://localhost:8080/"
        },
        "id": "ZCecnHINrqDK",
        "outputId": "a4f03492-95e7-448b-9fdb-5572da58b22b"
      },
      "outputs": [
        {
          "name": "stdout",
          "output_type": "stream",
          "text": [
            "Loading data.\n",
            "Found 31 different actions.\n",
            "Loading data done.\n",
            "\n"
          ]
        }
      ],
      "source": [
        "filepath_csv = [os.path.join(ROOTDIR_DATASET_ANOMALY, f\"rec{r}_collision_20220811_rbtc_0.1s.csv\") for r in [1, 5]]\n",
        "filepath_meta = [os.path.join(ROOTDIR_DATASET_ANOMALY, f\"rec{r}_collision_20220811_rbtc_0.1s.metadata\") for r in [1, 5]]\n",
        "df_action, df, df_meta, action2int = get_df_action(filepath_csv, filepath_meta)"
      ]
    },
    {
      "cell_type": "code",
      "execution_count": null,
      "metadata": {
        "colab": {
          "base_uri": "https://localhost:8080/",
          "height": 161
        },
        "id": "6etgQk3OsG1d",
        "outputId": "7cd38fd3-dcfa-4c36-9f0c-965fb36d1785"
      },
      "outputs": [
        {
          "name": "stdout",
          "output_type": "stream",
          "text": [
            "Computing features.\n"
          ]
        },
        {
          "data": {
            "text/html": [
              "\n",
              "              <p>\n",
              "                  Progress: 0% Complete\n",
              "              <p/>\n",
              "              <progress\n",
              "                  value='0'\n",
              "                  max='12',\n",
              "                  style='width: 25%',\n",
              "              >\n",
              "                  0\n",
              "              </progress>\n",
              "\n",
              "    "
            ],
            "text/plain": [
              "<IPython.core.display.HTML object>"
            ]
          },
          "metadata": {},
          "output_type": "display_data"
        },
        {
          "name": "stdout",
          "output_type": "stream",
          "text": [
            "Skipped feature extraction for moveOverPallet(1,3)=[true,0] 2022-08-11 16:55:15.149000 : 2022-08-11 16:55:15.146000.\n",
            "Skipped feature extraction for moveOverPallet(3,1)=[true,0] 2022-08-11 16:55:15.146000 : 2022-08-11 16:55:15.150000.\n",
            "Computing features done.\n",
            "--- 47.13082218170166 seconds ---\n"
          ]
        }
      ],
      "source": [
        "start_time = time.time()\n",
        "df_features_collision = get_features_ts(\"statistical\", df_action, df_meta, 10, action2int)\n",
        "print(\"--- %s seconds ---\" % (time.time() - start_time))"
      ]
    },
    {
      "cell_type": "markdown",
      "metadata": {
        "id": "Epjubc7aa9mH"
      },
      "source": [
        "Preprocessing"
      ]
    },
    {
      "cell_type": "code",
      "execution_count": null,
      "metadata": {
        "colab": {
          "base_uri": "https://localhost:8080/"
        },
        "id": "nrH9YmS8a_C9",
        "outputId": "60d1b4ed-66b8-4ff2-eb79-c8ce80303765"
      },
      "outputs": [
        {
          "data": {
            "text/plain": [
              "True"
            ]
          },
          "execution_count": 67,
          "metadata": {},
          "output_type": "execute_result"
        }
      ],
      "source": [
        "df_features_collision.isnull().values.any()"
      ]
    },
    {
      "cell_type": "code",
      "execution_count": null,
      "metadata": {
        "id": "Jb_DEeO2bGbz"
      },
      "outputs": [],
      "source": [
        "df_features_collision_nonan = df_features_collision.fillna(0)"
      ]
    },
    {
      "cell_type": "code",
      "execution_count": null,
      "metadata": {
        "id": "v3iC8BAebO8s"
      },
      "outputs": [],
      "source": [
        "X_collision = df_features_collision_nonan.drop([\"label\", \"start\", \"end\"], axis=1)\n",
        "y_collision = df_features_collision_nonan[\"label\"]"
      ]
    },
    {
      "cell_type": "code",
      "execution_count": null,
      "metadata": {
        "id": "N4Bf2CnxbYRD"
      },
      "outputs": [],
      "source": [
        "X_collision = pd.DataFrame(selector_variance.transform(scaler.transform(X_collision)),\n",
        "                           columns=X_collision.columns.values[selector_variance.get_support()])\n",
        "X_collision.drop(corr_features, inplace=True, axis=1)\n",
        "X_collision = X_collision[selected_features].copy()"
      ]
    },
    {
      "cell_type": "markdown",
      "metadata": {
        "id": "a0XBuZBmxNtz"
      },
      "source": [
        "# **TODO** Compute uncertainty"
      ]
    },
    {
      "cell_type": "code",
      "execution_count": null,
      "metadata": {
        "colab": {
          "base_uri": "https://localhost:8080/"
        },
        "id": "XJpRVJikbkjH",
        "outputId": "5dd140b3-60ba-4f23-817d-d82dc1ebab39"
      },
      "outputs": [],
      "source": [
        "preds_array_collisions = np.array([classifier.predict_proba(X_collision.values) for _ in range(n_mc)])\n",
        "preds_bayes_mean_collision = np.mean(np.array(preds_array_collisions), axis = 0)"
      ]
    },
    {
      "cell_type": "code",
      "execution_count": null,
      "metadata": {},
      "outputs": [
        {
          "data": {
            "text/plain": [
              "(10, 306, 31)"
            ]
          },
          "execution_count": 72,
          "metadata": {},
          "output_type": "execute_result"
        }
      ],
      "source": [
        "preds_array_collisions.shape"
      ]
    },
    {
      "cell_type": "code",
      "execution_count": null,
      "metadata": {
        "colab": {
          "base_uri": "https://localhost:8080/"
        },
        "id": "uunCaSdcb4Eu",
        "outputId": "5a95c2e6-c219-4760-9abd-91ff74a898c8"
      },
      "outputs": [
        {
          "name": "stdout",
          "output_type": "stream",
          "text": [
            "Done entropy\n",
            "Done variance\n",
            "Done max_softmax_response\n",
            "Done entropy\n",
            "Done variance\n",
            "Done max_softmax_response\n",
            "Done entropy\n",
            "Done variance\n",
            "Done max_softmax_response\n"
          ]
        }
      ],
      "source": [
        "uncertainties_bayes = dict()\n",
        "uncertainties_bayes[\"correct\"] = Confidence(preds_array_collisions.mean(axis=0)[(preds_bayes_mean_collision.argmax(axis=1) == y_collision), :]).compute_uncertainty_metrics()\n",
        "uncertainties_bayes[\"wrong\"] = Confidence(preds_array_collisions.mean(axis=0)[(preds_bayes_mean_collision.argmax(axis=1) != y_collision), :]).compute_uncertainty_metrics()\n",
        "uncertainties_bayes[\"all\"] = Confidence(preds_array_collisions.mean(axis=0)).compute_uncertainty_metrics()"
      ]
    },
    {
      "cell_type": "code",
      "execution_count": null,
      "metadata": {},
      "outputs": [
        {
          "data": {
            "text/plain": [
              "{'entropy': array([0.        , 0.        , 0.31000073, 0.23233462, 0.01790477,\n",
              "        0.01790477, 0.05361707, 0.05361707, 0.01790477, 0.01790477,\n",
              "        0.01790477, 0.80851928, 0.57889797, 0.77298022, 0.85786604,\n",
              "        0.28126507, 0.76947817, 0.45431334, 0.6564121 , 0.26814092,\n",
              "        0.95067884, 0.4692087 , 0.97173781, 1.        , 0.32117691,\n",
              "        0.92426629, 0.28538004, 0.89618399, 0.13904683, 0.76839821,\n",
              "        0.84736489, 0.26785495, 0.09674123, 0.01790477, 0.20437866,\n",
              "        0.06347727, 0.09674123, 0.05370136, 0.76406994, 0.7528351 ,\n",
              "        0.16527155, 0.12558974, 0.1697014 , 0.69270476, 0.75051605,\n",
              "        0.81433703, 0.13516915, 0.82086006, 0.69659276, 0.08110453,\n",
              "        0.74093866, 0.25049899, 0.36161165, 0.1215167 , 0.12348143,\n",
              "        0.14691438, 0.09028152, 0.1478517 , 0.16298243, 0.07866458,\n",
              "        0.09892305, 0.1669328 , 0.15627507, 0.1215167 , 0.14577841,\n",
              "        0.08921482, 0.12833433, 0.87611699, 0.88356461, 0.78301518,\n",
              "        0.40649957, 0.32889254, 0.71928192, 0.33789312, 0.85360183,\n",
              "        0.27451056, 0.28451121, 0.28008137, 0.89404234, 0.88155102,\n",
              "        0.50410824, 0.28922921, 0.07423474, 0.22681993, 0.08921482,\n",
              "        0.33186814, 0.04918722, 0.24874193, 0.14486775, 0.39209182,\n",
              "        0.29623856, 0.11578358, 0.3503354 , 0.01790477, 0.03577723,\n",
              "        0.01790477, 0.03134739, 0.19994881, 0.04918722, 0.20661439,\n",
              "        0.16120883, 0.03577723, 0.127352  , 0.15443617, 0.127352  ,\n",
              "        0.07142394, 0.03577723, 0.04918722, 0.03577723, 0.71428062,\n",
              "        0.26260163, 0.1492976 , 0.49140451, 0.36945116, 0.33215882,\n",
              "        0.58764558, 0.38302807, 0.97503593, 0.33635153, 0.38390142,\n",
              "        0.44093928, 0.34023334, 0.58318566, 0.79487181, 0.11641275,\n",
              "        0.88277248, 0.87750809, 0.31507384, 0.12980143, 0.14577841,\n",
              "        0.77025915, 0.09877602, 0.16586323, 0.1211599 , 0.15255138,\n",
              "        0.11216469, 0.0944932 , 0.68158524, 0.10795301, 0.04918722,\n",
              "        0.25795485, 0.08914064, 0.7468113 , 0.71019307, 0.21727335,\n",
              "        0.1295845 , 0.16346474, 0.73329763, 0.13751518, 0.08914064,\n",
              "        0.26071615, 0.15255138, 0.08033781, 0.17748408, 0.07257564,\n",
              "        0.12546876, 0.18737166, 0.26887935, 0.20884998, 0.23007043,\n",
              "        0.38383605, 0.39232752, 0.71896032, 0.473304  , 0.28255134,\n",
              "        0.19550026, 0.30434675, 0.90826189, 0.88529438, 0.44675277,\n",
              "        0.42937497, 0.33980195, 0.88447472, 0.34231697, 0.31545586,\n",
              "        0.27256979, 0.90171859, 0.44177075, 0.34407001, 0.31322194,\n",
              "        0.37993512, 0.36003993, 0.45369133, 0.21268846, 0.20160333,\n",
              "        0.21501444, 0.23058332, 0.13265842, 0.22210443, 0.27948085,\n",
              "        0.25087332, 0.4948097 , 0.5151384 , 0.26606062, 0.47025629,\n",
              "        0.5035892 , 0.41014735, 0.23988891, 0.20464739, 0.45241837,\n",
              "        0.94156605, 0.4679202 , 0.32161733, 0.52036941, 0.49310463,\n",
              "        0.85574846, 0.43510873, 0.33055592, 0.27897903, 0.35171212,\n",
              "        0.33853831, 0.21075046, 0.78449355, 0.35029181, 0.44825068,\n",
              "        0.35517749, 0.46953514, 0.54813951, 0.25592269, 0.33139794,\n",
              "        0.26347449, 0.29298294, 0.28197595, 0.37050684, 0.19026807,\n",
              "        0.21990713, 0.47608613, 0.28870237, 0.21033223, 0.27785695,\n",
              "        0.25910307, 0.27683523, 0.4318875 , 0.76055386, 0.88923444,\n",
              "        0.89131929, 0.23771253, 0.18439379, 0.24156214, 0.77357353,\n",
              "        0.24792504, 0.36264807, 0.77973857, 0.79103942, 0.87292734]),\n",
              " 'variance': array([1.        , 1.        , 0.625763  , 0.71163965, 0.97916228,\n",
              "        0.97916228, 0.93811829, 0.93811829, 0.97916228, 0.97916228,\n",
              "        0.97916228, 0.07408967, 0.24121238, 0.09640076, 0.05661966,\n",
              "        0.60029467, 0.07030099, 0.29278047, 0.22395285, 0.57166912,\n",
              "        0.01304988, 0.28709745, 0.00568301, 0.        , 0.53125658,\n",
              "        0.02315302, 0.52620501, 0.02946748, 0.77331088, 0.0690381 ,\n",
              "        0.04230688, 0.64660072, 0.82761524, 0.97916228, 0.731004  ,\n",
              "        0.90002105, 0.82761524, 0.91917491, 0.09113871, 0.08692907,\n",
              "        0.72363713, 0.82319512, 0.72342665, 0.11029257, 0.09134919,\n",
              "        0.06209219, 0.73163545, 0.05767207, 0.11913281, 0.86297622,\n",
              "        0.09450642, 0.6327089 , 0.46116607, 0.7918333 , 0.80614607,\n",
              "        0.7286887 , 0.86171332, 0.7415281 , 0.72237424, 0.89854767,\n",
              "        0.86066091, 0.75310461, 0.73816039, 0.7918333 , 0.70300989,\n",
              "        0.87939381, 0.7754157 , 0.02988844, 0.03094085, 0.07093244,\n",
              "        0.37297411, 0.48495054, 0.08587666, 0.48958114, 0.04630604,\n",
              "        0.61608083, 0.61397601, 0.61418649, 0.03578194, 0.04420122,\n",
              "        0.32961482, 0.55882972, 0.89875816, 0.66470217, 0.87939381,\n",
              "        0.479478  , 0.93832877, 0.57398442, 0.80319933, 0.39675858,\n",
              "        0.49547464, 0.85897706, 0.40412545, 0.97916228, 0.95853505,\n",
              "        0.97916228, 0.95874553, 0.73121448, 0.93832877, 0.71374447,\n",
              "        0.76804883, 0.95853505, 0.84003368, 0.78530836, 0.84003368,\n",
              "        0.91791202, 0.95853505, 0.93832877, 0.95853505, 0.15849295,\n",
              "        0.59671648, 0.80298884, 0.32498421, 0.36497579, 0.43696064,\n",
              "        0.18290886, 0.41233425, 0.00799832, 0.48516102, 0.45864029,\n",
              "        0.39612713, 0.47779415, 0.21763839, 0.09429594, 0.82445801,\n",
              "        0.03220375, 0.05156809, 0.53167754, 0.82235319, 0.70300989,\n",
              "        0.09576931, 0.84361187, 0.7672069 , 0.8234056 , 0.71395496,\n",
              "        0.84150705, 0.8608714 , 0.17975163, 0.84234898, 0.93832877,\n",
              "        0.61860661, 0.84508525, 0.07914123, 0.08840244, 0.65291518,\n",
              "        0.80572511, 0.73752894, 0.12207956, 0.78846559, 0.84508525,\n",
              "        0.64954746, 0.71395496, 0.89833719, 0.71858556, 0.88128815,\n",
              "        0.80551463, 0.67417386, 0.60387287, 0.65628289, 0.66491265,\n",
              "        0.41212376, 0.48053041, 0.09282256, 0.36687013, 0.57819406,\n",
              "        0.67438434, 0.54767417, 0.02757314, 0.03851821, 0.30919806,\n",
              "        0.35718796, 0.46853294, 0.03304567, 0.55019996, 0.58177226,\n",
              "        0.64428541, 0.03262471, 0.40517786, 0.52536308, 0.54283309,\n",
              "        0.41591244, 0.50199958, 0.3169859 , 0.64154915, 0.67396338,\n",
              "        0.66996422, 0.67985687, 0.80488318, 0.72889918, 0.64365397,\n",
              "        0.66154494, 0.27657335, 0.32603662, 0.66007156, 0.35066302,\n",
              "        0.34055988, 0.44937908, 0.67901494, 0.74700063, 0.38728689,\n",
              "        0.01704904, 0.39675858, 0.54283309, 0.23363502, 0.33193012,\n",
              "        0.03999158, 0.38097243, 0.52830983, 0.63018312, 0.5508314 ,\n",
              "        0.537992  , 0.74657967, 0.07766786, 0.49884235, 0.374237  ,\n",
              "        0.53525574, 0.34434856, 0.27762576, 0.63207746, 0.56556514,\n",
              "        0.61692275, 0.58492949, 0.61376552, 0.5613555 , 0.74826352,\n",
              "        0.71269206, 0.37444748, 0.57230057, 0.69985266, 0.62997264,\n",
              "        0.60555672, 0.60050516, 0.36076615, 0.10966112, 0.0479899 ,\n",
              "        0.04988423, 0.6806988 , 0.76573353, 0.67880446, 0.07030099,\n",
              "        0.63291939, 0.47421595, 0.09597979, 0.10208377, 0.03725531]),\n",
              " 'max_softmax_response': array([1.        , 1.        , 0.78021978, 0.83516484, 0.98901099,\n",
              "        0.98901099, 0.96703297, 0.96703297, 0.98901099, 0.98901099,\n",
              "        0.98901099, 0.18681319, 0.38461538, 0.17582418, 0.14285714,\n",
              "        0.75824176, 0.15384615, 0.34065934, 0.43956044, 0.72527473,\n",
              "        0.04395604, 0.42857143, 0.        , 0.        , 0.7032967 ,\n",
              "        0.04395604, 0.68131868, 0.07692308, 0.86813187, 0.13186813,\n",
              "        0.07692308, 0.79120879, 0.9010989 , 0.98901099, 0.84615385,\n",
              "        0.94505495, 0.9010989 , 0.95604396, 0.18681319, 0.16483516,\n",
              "        0.83516484, 0.9010989 , 0.83516484, 0.21978022, 0.17582418,\n",
              "        0.13186813, 0.83516484, 0.12087912, 0.26373626, 0.92307692,\n",
              "        0.21978022, 0.78021978, 0.64835165, 0.87912088, 0.89010989,\n",
              "        0.83516484, 0.92307692, 0.84615385, 0.83516484, 0.94505495,\n",
              "        0.92307692, 0.85714286, 0.84615385, 0.87912088, 0.81318681,\n",
              "        0.93406593, 0.86813187, 0.06593407, 0.05494505, 0.15384615,\n",
              "        0.53846154, 0.65934066, 0.14285714, 0.67032967, 0.14285714,\n",
              "        0.76923077, 0.76923077, 0.76923077, 0.12087912, 0.15384615,\n",
              "        0.53846154, 0.72527473, 0.94505495, 0.8021978 , 0.93406593,\n",
              "        0.64835165, 0.96703297, 0.72527473, 0.89010989, 0.58241758,\n",
              "        0.65934066, 0.92307692, 0.57142857, 0.98901099, 0.97802198,\n",
              "        0.98901099, 0.97802198, 0.84615385, 0.96703297, 0.83516484,\n",
              "        0.86813187, 0.97802198, 0.91208791, 0.87912088, 0.91208791,\n",
              "        0.95604396, 0.97802198, 0.96703297, 0.97802198, 0.35164835,\n",
              "        0.74725275, 0.89010989, 0.52747253, 0.48351648, 0.58241758,\n",
              "        0.28571429, 0.58241758, 0.01098901, 0.65934066, 0.64835165,\n",
              "        0.59340659, 0.65934066, 0.40659341, 0.25274725, 0.9010989 ,\n",
              "        0.05494505, 0.17582418, 0.7032967 , 0.9010989 , 0.81318681,\n",
              "        0.21978022, 0.91208791, 0.86813187, 0.9010989 , 0.82417582,\n",
              "        0.91208791, 0.92307692, 0.38461538, 0.91208791, 0.96703297,\n",
              "        0.76923077, 0.91208791, 0.10989011, 0.10989011, 0.79120879,\n",
              "        0.89010989, 0.84615385, 0.27472527, 0.87912088, 0.91208791,\n",
              "        0.79120879, 0.82417582, 0.94505495, 0.83516484, 0.93406593,\n",
              "        0.89010989, 0.8021978 , 0.75824176, 0.79120879, 0.8021978 ,\n",
              "        0.58241758, 0.67032967, 0.16483516, 0.57142857, 0.73626374,\n",
              "        0.8021978 , 0.71428571, 0.05494505, 0.10989011, 0.48351648,\n",
              "        0.54945055, 0.64835165, 0.08791209, 0.72527473, 0.74725275,\n",
              "        0.79120879, 0.10989011, 0.6043956 , 0.7032967 , 0.71428571,\n",
              "        0.6043956 , 0.68131868, 0.46153846, 0.78021978, 0.8021978 ,\n",
              "        0.8021978 , 0.81318681, 0.89010989, 0.84615385, 0.79120879,\n",
              "        0.8021978 , 0.43956044, 0.53846154, 0.8021978 , 0.54945055,\n",
              "        0.54945055, 0.64835165, 0.81318681, 0.85714286, 0.59340659,\n",
              "        0.05494505, 0.6043956 , 0.71428571, 0.3956044 , 0.53846154,\n",
              "        0.07692308, 0.58241758, 0.7032967 , 0.78021978, 0.72527473,\n",
              "        0.71428571, 0.85714286, 0.17582418, 0.68131868, 0.57142857,\n",
              "        0.71428571, 0.53846154, 0.48351648, 0.78021978, 0.73626374,\n",
              "        0.76923077, 0.74725275, 0.76923077, 0.73626374, 0.85714286,\n",
              "        0.83516484, 0.58241758, 0.73626374, 0.82417582, 0.78021978,\n",
              "        0.75824176, 0.75824176, 0.53846154, 0.27472527, 0.16483516,\n",
              "        0.17582418, 0.81318681, 0.86813187, 0.81318681, 0.14285714,\n",
              "        0.78021978, 0.65934066, 0.25274725, 0.26373626, 0.10989011])}"
            ]
          },
          "execution_count": 74,
          "metadata": {},
          "output_type": "execute_result"
        }
      ],
      "source": [
        "uncertainties_bayes[\"correct\"]"
      ]
    },
    {
      "cell_type": "code",
      "execution_count": null,
      "metadata": {
        "colab": {
          "base_uri": "https://localhost:8080/",
          "height": 718
        },
        "id": "X4cBEIfYcN7e",
        "outputId": "dd87ae72-c1aa-4aa9-d984-390d32dfcbd3"
      },
      "outputs": [
        {
          "data": {
            "image/png": "[encoded data removed]",
            "text/plain": [
              "<Figure size 1500x900 with 9 Axes>"
            ]
          },
          "metadata": {},
          "output_type": "display_data"
        }
      ],
      "source": [
        "fig, axes = plt.subplots(len(uncertainties_bayes['correct'].keys()), 3, figsize=(15, 9))\n",
        "for ax, measure in zip(axes, uncertainties_bayes['correct'].keys()):\n",
        "    ax[0] .set_title(f\"Wrong - {measure}\")\n",
        "    ax[0].hist(uncertainties_bayes['wrong'][measure], color=\"red\", log=False, bins=25, edgecolor='black', linewidth=1.2, alpha=0.5);\n",
        "    ax[1] .set_title(f\"Correct - {measure}\")\n",
        "    ax[1].hist(uncertainties_bayes['correct'][measure], color=\"green\", log=False, bins=25, edgecolor='black', linewidth=1.2, alpha=0.5);\n",
        "    ax[2] .set_title(f\"All - {measure}\")\n",
        "    ax[2].hist(uncertainties_bayes['all'][measure], color=\"blue\", log=False, bins=25, edgecolor='black', linewidth=1.2, alpha=0.5);\n",
        "fig.suptitle(\"Bayes MLP\", fontsize=20)\n",
        "plt.tight_layout()"
      ]
    },
    {
      "cell_type": "markdown",
      "metadata": {
        "id": "zphGuG07xQuA"
      },
      "source": [
        "# Assess TAD algorithm performance via ROC curves"
      ]
    },
    {
      "cell_type": "code",
      "execution_count": null,
      "metadata": {
        "id": "XeCRc71JLwth"
      },
      "outputs": [],
      "source": [
        "roc_dict = dict()\n",
        "for confidence_metric in uncertainties_bayes['correct'].keys():\n",
        "    confidence = uncertainties_bayes['all'][confidence_metric]\n",
        "    if confidence_metric == \"entropy\":\n",
        "        confidence = 1- confidence\n",
        "    sens = list()\n",
        "    fpr = list()\n",
        "    for threshold in np.arange(0, 1, 0.1):\n",
        "        df_not_confident = df_features_collision_nonan[confidence <= threshold]\n",
        "        anomaly_indexes = list()\n",
        "        tp = 0\n",
        "        for anomaly in collisions_init:\n",
        "            for index, row in df_not_confident.iterrows():\n",
        "                if anomaly >= row['start'] and anomaly <= row['end']:\n",
        "                    anomaly_indexes.append(index)\n",
        "                    tp += 1\n",
        "\n",
        "        cm_anomaly = np.zeros((2, 2))\n",
        "        n_samples = len(df_features_collision_nonan)\n",
        "        n_not_collisions = n_samples - len(collisions_init)\n",
        "        n_detected = len(df_not_confident)\n",
        "\n",
        "        fp = n_detected - tp\n",
        "        fn = len(collisions_init) - tp\n",
        "        tn = n_not_collisions - fp\n",
        "        cm_anomaly[0][0] = tn\n",
        "        cm_anomaly[1][1] = tp\n",
        "        cm_anomaly[0][1] = fp\n",
        "        cm_anomaly[1][0] = fn\n",
        "        sens.append(tp / (tp + fn))\n",
        "        fpr.append(1 - tn / (fp + tn))\n",
        "    roc_dict[confidence_metric] = (fpr, sens)"
      ]
    },
    {
      "cell_type": "code",
      "execution_count": null,
      "metadata": {
        "colab": {
          "base_uri": "https://localhost:8080/",
          "height": 433
        },
        "id": "KwIZ9uJcR8bT",
        "outputId": "81f59ca0-a498-4b9f-ce28-88debac85350"
      },
      "outputs": [
        {
          "data": {
            "image/png": "[encoded data removed]",
            "text/plain": [
              "<Figure size 640x480 with 1 Axes>"
            ]
          },
          "metadata": {},
          "output_type": "display_data"
        }
      ],
      "source": [
        "fig, ax = plt.subplots(1, 1)\n",
        "for confidence_metric in uncertainties_bayes['correct'].keys():\n",
        "    ax.plot(roc_dict[confidence_metric][0], roc_dict[confidence_metric][1], label=confidence_metric)\n",
        "ax.legend();"
      ]
    }
  ],
  "metadata": {
    "colab": {
      "provenance": []
    },
    "gpuClass": "standard",
    "kernelspec": {
      "display_name": "Python 3",
      "name": "python3"
    },
    "language_info": {
      "codemirror_mode": {
        "name": "ipython",
        "version": 3
      },
      "file_extension": ".py",
      "mimetype": "text/x-python",
      "name": "python",
      "nbconvert_exporter": "python",
      "pygments_lexer": "ipython3",
      "version": "3.11.5"
    }
  },
  "nbformat": 4,
  "nbformat_minor": 0
}
