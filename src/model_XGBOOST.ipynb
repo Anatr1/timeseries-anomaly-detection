{
 "cells": [
  {
   "cell_type": "markdown",
   "metadata": {},
   "source": [
    "# Group 14 - Project FP01\n",
    "## Time series anomaly detection - XGBOOST"
   ]
  },
  {
   "cell_type": "code",
   "execution_count": null,
   "metadata": {},
   "outputs": [],
   "source": [
    "import os\n",
    "import time\n",
    "import tsfel\n",
    "import warnings\n",
    "import numpy as np\n",
    "import pandas as pd\n",
    "import seaborn as sns\n",
    "import matplotlib.pyplot as plt\n",
    "from sklearn.model_selection import train_test_split\n",
    "from xgboost import XGBRegressor\n",
    "from sklearn.metrics import mean_squared_error\n",
    "from sklearn.preprocessing import StandardScaler\n",
    "from sklearn.metrics import mean_squared_error, precision_recall_curve, average_precision_score\n",
    "from scipy.stats import mode\n",
    "\n",
    "from dataset import *\n",
    "from plots import *\n",
    "from metrics import *\n",
    "from models_functions import *\n",
    "\n",
    "# Set style for matplotlib\n",
    "plt.style.use(\"Solarize_Light2\")\n",
    "\n",
    "import plotly.io as pio\n",
    "pio.renderers.default = \"notebook_connected\""
   ]
  },
  {
   "cell_type": "code",
   "execution_count": 2,
   "metadata": {},
   "outputs": [],
   "source": [
    "# Path to the root directory of the dataset\n",
    "ROOTDIR_DATASET_NORMAL =  '../dataset/normal'\n",
    "ROOTDIR_DATASET_ANOMALY = '../dataset/collisions'\n",
    "\n",
    "# TF_ENABLE_ONEDNN_OPTS=0 means that the model will not use the oneDNN library for optimization\n",
    "\n",
    "import os\n",
    "os.environ['TF_ENABLE_ONEDNN_OPTS'] = '0'"
   ]
  },
  {
   "cell_type": "markdown",
   "metadata": {},
   "source": [
    "#### Various parameters"
   ]
  },
  {
   "cell_type": "code",
   "execution_count": 3,
   "metadata": {},
   "outputs": [],
   "source": [
    "#freq = '1.0'\n",
    "freq = '0.1'\n",
    "#freq = '0.01'\n",
    "#freq = '0.005'\n",
    "\n",
    "file_name_normal = \"_20220811_rbtc_\"\n",
    "file_name_collisions = \"_collision_20220811_rbtc_\"\n",
    "\n",
    "recording_normal = [0, 2, 3, 4]\n",
    "recording_collisions = [1, 5]\n",
    "\n",
    "freq_str = freq.replace(\".\", \"_\")\n",
    "features_folder_normal = f\"./features/normal{freq_str}/\"\n",
    "features_folder_collisions = f\"./features/collisions{freq_str}/\""
   ]
  },
  {
   "cell_type": "markdown",
   "metadata": {},
   "source": [
    "### Data"
   ]
  },
  {
   "cell_type": "code",
   "execution_count": null,
   "metadata": {},
   "outputs": [],
   "source": [
    "df_features_normal, df_normal_raw, _ = get_dataframes(ROOTDIR_DATASET_NORMAL, file_name_normal, recording_normal, freq, None)\n",
    "df_features_collisions, df_collisions_raw, df_collisions_raw_action = get_dataframes(ROOTDIR_DATASET_ANOMALY, file_name_collisions, recording_collisions, freq, None)\n",
    "df_features_collisions_1, df_collisions_raw_1, df_collisions_raw_action_1 = get_dataframes(ROOTDIR_DATASET_ANOMALY, file_name_collisions, [1], freq, None)\n",
    "df_features_collisions_5, df_collisions_raw_5, df_collisions_raw_action_5 = get_dataframes(ROOTDIR_DATASET_ANOMALY, file_name_collisions, [5], freq, None)"
   ]
  },
  {
   "cell_type": "code",
   "execution_count": 6,
   "metadata": {},
   "outputs": [],
   "source": [
    "X_train, y_train, X_test, y_test, df_test = get_train_test_data(df_features_normal, df_features_collisions, full_normal=True)\n",
    "X_train_1, y_train_1, X_test_1, y_test_1, df_test_1 = get_train_test_data(df_features_normal, df_features_collisions_1, full_normal=True)\n",
    "X_train_5, y_train_5, X_test_5, y_test_5, df_test_5 = get_train_test_data(df_features_normal, df_features_collisions_5, full_normal=True)"
   ]
  },
  {
   "cell_type": "code",
   "execution_count": null,
   "metadata": {},
   "outputs": [],
   "source": [
    "X_train_reshaped, y_train_seq, X_test_reshaped, y_test_seq = reshape_data(X_train, y_train, X_test, y_test, time_steps=100)\n",
    "X_train_reshaped_1, y_train_seq_1, X_test_reshaped_1, y_test_seq_1 = reshape_data(X_train_1, y_train_1, X_test_1, y_test_1, time_steps=100)\n",
    "X_train_reshaped_5, y_train_seq_5, X_test_reshaped_5, y_test_seq_5 = reshape_data(X_train_5, y_train_5, X_test_5, y_test_5, time_steps=100)"
   ]
  },
  {
   "cell_type": "markdown",
   "metadata": {},
   "source": [
    "### Collisions"
   ]
  },
  {
   "cell_type": "code",
   "execution_count": 7,
   "metadata": {},
   "outputs": [],
   "source": [
    "collisions_rec1, collisions_init1 = get_collisions('1', ROOTDIR_DATASET_ANOMALY)\n",
    "collisions_rec5, collisions_init5 = get_collisions('5', ROOTDIR_DATASET_ANOMALY)\n",
    "\n",
    "# Merge the collisions of the two recordings in one dataframe\n",
    "collisions_rec = pd.concat([collisions_rec1, collisions_rec5])\n",
    "collisions_init = pd.concat([collisions_init1, collisions_init5])"
   ]
  },
  {
   "cell_type": "code",
   "execution_count": 8,
   "metadata": {},
   "outputs": [],
   "source": [
    "collisions_zones, y_collisions = get_collisions_zones_and_labels(collisions_rec, collisions_init, df_features_collisions)\n",
    "collisions_zones_1, y_collisions_1 = get_collisions_zones_and_labels(collisions_rec1, collisions_init1, df_features_collisions_1)\n",
    "collisions_zones_5, y_collisions_5 = get_collisions_zones_and_labels(collisions_rec5, collisions_init5, df_features_collisions_5)"
   ]
  },
  {
   "cell_type": "markdown",
   "metadata": {},
   "source": [
    "## XGBoost for Anomaly Detection in Time Series Data"
   ]
  },
  {
   "cell_type": "code",
   "execution_count": null,
   "metadata": {},
   "outputs": [],
   "source": [
    "# Train XGBoost model\n",
    "classifier = XGBRegressor(n_estimators=50, learning_rate=0.5, random_state=42)\n",
    "classifier.fit(X_train_reshaped, X_train_reshaped)  # Autoencoder-like approach\n",
    "print(\"XGBoost model trained\")\n"
   ]
  },
  {
   "cell_type": "markdown",
   "metadata": {},
   "source": [
    "### Predictions"
   ]
  },
  {
   "cell_type": "code",
   "execution_count": null,
   "metadata": {},
   "outputs": [],
   "source": [
    "df_test = get_statistics(X_test_reshaped, y_collisions, classifier, df_test, freq, threshold_type=\"mad\")\n",
    "df_test_1 = get_statistics(X_test_reshaped_1, y_collisions_1, classifier, df_test_1, freq, threshold_type=\"mad\")\n",
    "df_test_5 = get_statistics(X_test_reshaped_5, y_collisions_5, classifier, df_test_5, freq, threshold_type=\"mad\")"
   ]
  },
  {
   "cell_type": "code",
   "execution_count": null,
   "metadata": {},
   "outputs": [],
   "source": [
    "plot_anomalies_true_and_predicted(df_collisions_raw, df_collisions_raw_action, collisions_zones, df_test, title=\"Collisions zones vs predicted zones for both recordings\")"
   ]
  },
  {
   "cell_type": "code",
   "execution_count": null,
   "metadata": {},
   "outputs": [],
   "source": [
    "plot_anomalies_true_and_predicted(df_collisions_raw_1, df_collisions_raw_action_1, collisions_zones_1, df_test_1, title=\"Collisions zones vs predicted zones for recording 1\")"
   ]
  },
  {
   "cell_type": "code",
   "execution_count": null,
   "metadata": {},
   "outputs": [],
   "source": [
    "plot_anomalies_true_and_predicted(df_collisions_raw_5, df_collisions_raw_action_5, collisions_zones_5, df_test_5, title=\"Collisions zones vs predicted zones for recording 5\")"
   ]
  }
 ],
 "metadata": {
  "kernelspec": {
   "display_name": ".venv",
   "language": "python",
   "name": "python3"
  },
  "language_info": {
   "codemirror_mode": {
    "name": "ipython",
    "version": 3
   },
   "file_extension": ".py",
   "mimetype": "text/x-python",
   "name": "python",
   "nbconvert_exporter": "python",
   "pygments_lexer": "ipython3",
   "version": "3.11.2"
  }
 },
 "nbformat": 4,
 "nbformat_minor": 2
}
