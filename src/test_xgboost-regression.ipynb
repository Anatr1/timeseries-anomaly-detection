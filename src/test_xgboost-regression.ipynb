{
 "cells": [
  {
   "cell_type": "markdown",
   "metadata": {},
   "source": [
    "# Group 14 - Project FP01\n",
    "## Time series anomaly detection - XGBoost\n",
    "\n",
    "This project aims at investigating the current state-of-the-arts TAD scenario using XGBoost."
   ]
  },
  {
   "cell_type": "code",
   "execution_count": 1,
   "metadata": {},
   "outputs": [],
   "source": [
    "# !pip install pandas==1.5.3\n",
    "# !pip install tsfel\n",
    "# !pip install xgboost\n",
    "# !pip install -U kaleido"
   ]
  },
  {
   "cell_type": "code",
   "execution_count": null,
   "metadata": {},
   "outputs": [],
   "source": [
    "import os\n",
    "import time\n",
    "import tsfel\n",
    "import warnings\n",
    "import datetime\n",
    "import numpy as np\n",
    "import pandas as pd\n",
    "import seaborn as sns\n",
    "import matplotlib.pyplot as plt\n",
    "from sklearn import preprocessing\n",
    "from sklearn.model_selection import train_test_split\n",
    "from xgboost import XGBRegressor\n",
    "from sklearn.metrics import mean_squared_error\n",
    "from sklearn.preprocessing import StandardScaler\n",
    "\n",
    "from dataset import get_df_action, get_features_ts, get_train_test_data\n",
    "from plots import plot_anomalies, plot_anomalies_over_time, plot_roc_curve\n",
    "from metrics import compute_metrics\n",
    "\n",
    "# Set style for matplotlib\n",
    "plt.style.use(\"Solarize_Light2\")"
   ]
  },
  {
   "cell_type": "code",
   "execution_count": 4,
   "metadata": {},
   "outputs": [],
   "source": [
    "# Path to the root directory of the dataset\n",
    "ROOTDIR_DATASET_NORMAL = '../../dataset/normal'\n",
    "ROOTDIR_DATASET_ANOMALY = '../../dataset/collisions'\n",
    "\n",
    "import os\n",
    "os.environ['TF_ENABLE_ONEDNN_OPTS'] = '0'"
   ]
  },
  {
   "cell_type": "markdown",
   "metadata": {},
   "source": [
    "### Data Loading and Preprocessing"
   ]
  },
  {
   "cell_type": "code",
   "execution_count": null,
   "metadata": {},
   "outputs": [],
   "source": [
    "freq = '0.1'\n",
    "\n",
    "# NORMAL DATA\n",
    "filepath_csv = [os.path.join(ROOTDIR_DATASET_NORMAL, f\"rec{r}_20220811_rbtc_{freq}s.csv\") for r in [0, 2, 3, 4]]\n",
    "filepath_meta = [os.path.join(ROOTDIR_DATASET_NORMAL, f\"rec{r}_20220811_rbtc_{freq}s.metadata\") for r in [0, 2, 3, 4]]\n",
    "df_action, df, df_meta, action2int = get_df_action(filepath_csv, filepath_meta)\n",
    "\n",
    "# COLLISION DATA\n",
    "filepath_csv = [os.path.join(ROOTDIR_DATASET_ANOMALY, f\"rec{r}_collision_20220811_rbtc_{freq}s.csv\") for r in [1, 5]]\n",
    "filepath_meta = [os.path.join(ROOTDIR_DATASET_ANOMALY, f\"rec{r}_collision_20220811_rbtc_{freq}s.metadata\") for r in [1, 5]]\n",
    "df_action_collision, df_collision, df_meta_collision, action2int_collision = get_df_action(filepath_csv, filepath_meta)\n",
    "\n",
    "filepath_csv = [os.path.join(ROOTDIR_DATASET_ANOMALY, f\"rec1_collision_20220811_rbtc_{freq}s.csv\")]\n",
    "filepath_meta = [os.path.join(ROOTDIR_DATASET_ANOMALY, f\"rec1_collision_20220811_rbtc_{freq}s.metadata\")]\n",
    "df_action_collision_1, df_collision_1, df_meta_collision_1, action2int_collision_1 = get_df_action(filepath_csv, filepath_meta)\n",
    "\n",
    "filepath_csv = [os.path.join(ROOTDIR_DATASET_ANOMALY, f\"rec5_collision_20220811_rbtc_{freq}s.csv\")]\n",
    "filepath_meta = [os.path.join(ROOTDIR_DATASET_ANOMALY, f\"rec5_collision_20220811_rbtc_{freq}s.metadata\")]\n",
    "df_action_collision_5, df_collision_5, df_meta_collision_5, action2int_collision_5 = get_df_action(filepath_csv, filepath_meta)"
   ]
  },
  {
   "cell_type": "markdown",
   "metadata": {},
   "source": [
    "### Features Extraction"
   ]
  },
  {
   "cell_type": "code",
   "execution_count": null,
   "metadata": {},
   "outputs": [],
   "source": [
    "start_time = time.time()\n",
    "frequency = 1/float(freq)\n",
    "df_features = get_features_ts(\"statistical\", df_action, df_meta, frequency, action2int)\n",
    "df_features_collision = get_features_ts(\"statistical\", df_action_collision, df_meta_collision, frequency, action2int_collision)\n",
    "df_features_collision_1 = get_features_ts(\"statistical\", df_action_collision_1, df_meta_collision_1, frequency, action2int_collision_1)\n",
    "df_features_collision_5 = get_features_ts(\"statistical\", df_action_collision_5, df_meta_collision_5, frequency, action2int_collision_5)\n",
    "print(\"--- %s seconds ---\" % (time.time() - start_time))"
   ]
  },
  {
   "cell_type": "code",
   "execution_count": null,
   "metadata": {},
   "outputs": [],
   "source": [
    "X_train, y_train, X_test, y_test = get_train_test_data(df_features, df_features_collision, full_normal=True)\n",
    "X_train1, y_train1, X_test1, y_test1 = get_train_test_data(df_features, df_features_collision_1, full_normal=True)\n",
    "X_train5, y_train5, X_test5, y_test5 = get_train_test_data(df_features, df_features_collision_5, full_normal=True)"
   ]
  },
  {
   "cell_type": "markdown",
   "metadata": {},
   "source": [
    "## XGBoost for Anomaly Detection"
   ]
  },
  {
   "cell_type": "code",
   "execution_count": null,
   "metadata": {},
   "outputs": [],
   "source": [
    "# Initialize and train XGBoost model\n",
    "xgb_model = XGBRegressor(n_estimators=100, learning_rate=0.1, random_state=42)\n",
    "xgb_model.fit(X_train, y_train)\n",
    "\n",
    "xgb_model_1 = XGBRegressor(n_estimators=100, learning_rate=0.1, random_state=42)\n",
    "xgb_model_1.fit(X_train, y_train1)\n",
    "\n",
    "xgb_model_2 = XGBRegressor(n_estimators=100, learning_rate=0.1, random_state=42)\n",
    "xgb_model_2.fit(X_train, y_train5)\n",
    "\n",
    "print(\"XGBoost training completed.\")"
   ]
  },
  {
   "cell_type": "markdown",
   "metadata": {},
   "source": [
    "### Anomaly Detection"
   ]
  },
  {
   "cell_type": "code",
   "execution_count": null,
   "metadata": {},
   "outputs": [],
   "source": [
    "plot_anomalies(xgb_model, X_test, y_test, freq, xgboost=True)\n",
    "plot_anomalies(xgb_model_1, X_test1, y_test1, freq, xgboost=True)\n",
    "plot_anomalies(xgb_model_2, X_test5, y_test5, freq, xgboost=True)"
   ]
  },
  {
   "cell_type": "code",
   "execution_count": null,
   "metadata": {},
   "outputs": [],
   "source": [
    "# Compute metrics\n",
    "anomaly_scores, y_test_binary = compute_metrics(xgb_model, X_test, y_test)"
   ]
  },
  {
   "cell_type": "code",
   "execution_count": null,
   "metadata": {},
   "outputs": [],
   "source": [
    "plot_roc_curve(y_test_binary, anomaly_scores)"
   ]
  },
  {
   "cell_type": "markdown",
   "metadata": {},
   "source": [
    "## Map anomalies to original time series"
   ]
  },
  {
   "cell_type": "code",
   "execution_count": null,
   "metadata": {},
   "outputs": [],
   "source": [
    "plot_anomalies_over_time(X_test, anomaly_scores, sum(anomaly_scores > np.mean(anomaly_scores) + 2 * np.std(anomaly_scores)), freq)"
   ]
  },
  {
   "cell_type": "markdown",
   "metadata": {},
   "source": [
    "## Feature Importance Analysis"
   ]
  },
  {
   "cell_type": "code",
   "execution_count": null,
   "metadata": {},
   "outputs": [],
   "source": [
    "feature_importance = xgb_model.feature_importances_\n",
    "feature_names = X_train.columns\n",
    "\n",
    "# Sort features by importance\n",
    "sorted_idx = np.argsort(feature_importance)\n",
    "sorted_features = feature_names[sorted_idx]\n",
    "sorted_importance = feature_importance[sorted_idx]\n",
    "\n",
    "# Plot top 20 features\n",
    "plt.figure(figsize=(10, 8))\n",
    "plt.barh(range(20), sorted_importance[-20:])\n",
    "plt.yticks(range(20), sorted_features[-20:])\n",
    "plt.xlabel('Feature Importance')\n",
    "plt.title('Top 20 Important Features')\n",
    "plt.tight_layout()\n",
    "plt.show()"
   ]
  }
 ],
 "metadata": {
  "kernelspec": {
   "display_name": "Python 3",
   "language": "python",
   "name": "python3"
  },
  "language_info": {
   "codemirror_mode": {
    "name": "ipython",
    "version": 3
   },
   "file_extension": ".py",
   "mimetype": "text/x-python",
   "name": "python",
   "nbconvert_exporter": "python",
   "pygments_lexer": "ipython3",
   "version": "3.10.12"
  }
 },
 "nbformat": 4,
 "nbformat_minor": 4
}
