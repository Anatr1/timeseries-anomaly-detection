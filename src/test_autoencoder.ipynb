{
  "cells": [
    {
      "cell_type": "markdown",
      "metadata": {
        "id": "7skbGH4Urm1T"
      },
      "source": [
        "# Group 14 - Project FP01\n",
        "## Time series anomaly detection - Autoencoder\n",
        "\n",
        "This project aims at investigating the current state-of-the-arts TAD scenario."
      ]
    },
    {
      "cell_type": "code",
      "execution_count": 5,
      "metadata": {
        "id": "5mWByyf-sEML"
      },
      "outputs": [],
      "source": [
        "# !pip install pandas==1.5.3\n",
        "# !pip install tsfel\n",
        "# !pip install keras_tuner\n",
        "# !pip install -U kaleido"
      ]
    },
    {
      "cell_type": "code",
      "execution_count": 6,
      "metadata": {
        "colab": {
          "base_uri": "https://localhost:8080/"
        },
        "id": "O8r-brr8rm1Z",
        "outputId": "b388b8b8-bc5a-4d3c-fff9-14a1524e00c1"
      },
      "outputs": [],
      "source": [
        "import os\n",
        "import time\n",
        "import tsfel\n",
        "import warnings\n",
        "import datetime\n",
        "import keras_tuner as kt\n",
        "import numpy as np\n",
        "import pandas as pd\n",
        "import seaborn as sns\n",
        "import tensorflow as tf\n",
        "import matplotlib.cm as cm\n",
        "from sklearn import metrics\n",
        "import plotly.express as px\n",
        "import matplotlib.pyplot as plt\n",
        "from sklearn import preprocessing\n",
        "import plotly.graph_objects as go\n",
        "from sklearn.decomposition import PCA\n",
        "from sklearn.pipeline import Pipeline\n",
        "from sklearn.svm import SVC, LinearSVC\n",
        "from sklearn.metrics import classification_report, confusion_matrix\n",
        "from sklearn.ensemble import RandomForestClassifier\n",
        "from sklearn.model_selection import train_test_split\n",
        "from sklearn.feature_selection import SelectFromModel\n",
        "from sklearn.model_selection import RandomizedSearchCV\n",
        "from sklearn.feature_selection import VarianceThreshold\n",
        "from sklearn.metrics import accuracy_score, precision_score, recall_score, f1_score, roc_auc_score, roc_curve, auc\n",
        "\n",
        "from dataset import get_df_action, get_features_ts, get_train_test_data\n",
        "from plots import seaborn_cm, create_and_plot_cm, plot_uncertainty, plot_signals, plot_anomalies, plot_anomalies_over_time, plot_roc_curve\n",
        "from metrics import Confidence, anomaly_detection_metric, compute_metrics\n",
        "\n",
        "#from google.colab import drive\n",
        "#drive.mount('/content/drive', force_remount=True)\n",
        "\n",
        "# Set style for matplotlib\n",
        "plt.style.use(\"Solarize_Light2\")"
      ]
    },
    {
      "cell_type": "code",
      "execution_count": 7,
      "metadata": {
        "id": "4mylEXUIrm1g"
      },
      "outputs": [],
      "source": [
        "# Path to the root directory of the dataset\n",
        "ROOTDIR_DATASET_NORMAL =  '../../dataset/normal'#'/content/drive/MyDrive/Kuka_v1/normal'\n",
        "ROOTDIR_DATASET_ANOMALY = '../../dataset/collisions'#'/content/drive/MyDrive/Kuka_v1/collisions'\n",
        "\n",
        "# TF_ENABLE_ONEDNN_OPTS=0 means that the model will not use the oneDNN library for optimization\n",
        "\n",
        "import os\n",
        "os.environ['TF_ENABLE_ONEDNN_OPTS'] = '0'"
      ]
    },
    {
      "cell_type": "markdown",
      "metadata": {
        "id": "2fuWTQHSrm1i"
      },
      "source": [
        "### Dataset: Kuka-v1\n",
        "In 5 different recording sessions, the robot executes several different operations, while being\n",
        "monitored by several sensors. The sensed signals are collected, with different sampling frequencies\n",
        "(1, 10, 100, 200 Hz),"
      ]
    },
    {
      "cell_type": "markdown",
      "metadata": {
        "id": "K-vhG81Qrm1k"
      },
      "source": [
        "### Data Loading"
      ]
    },
    {
      "cell_type": "code",
      "execution_count": null,
      "metadata": {
        "colab": {
          "base_uri": "https://localhost:8080/"
        },
        "id": "jyHvPhF9rm1m",
        "outputId": "ddfd52d1-0f7e-4ae7-d940-b284ba648247"
      },
      "outputs": [],
      "source": [
        "#freq = '1.0'\n",
        "freq = '0.1'\n",
        "#freq = '0.01'\n",
        "#freq = '0.005'\n",
        "\n",
        "# NORMAL DATA\n",
        "filepath_csv = [os.path.join(ROOTDIR_DATASET_NORMAL, f\"rec{r}_20220811_rbtc_{freq}s.csv\") for r in [0, 2, 3, 4]]\n",
        "filepath_meta = [os.path.join(ROOTDIR_DATASET_NORMAL, f\"rec{r}_20220811_rbtc_{freq}s.metadata\") for r in [0, 2, 3, 4]]\n",
        "df_action, df, df_meta, action2int = get_df_action(filepath_csv, filepath_meta)\n",
        "\n",
        "\n",
        "# COLLISION DATA\n",
        "xls = pd.ExcelFile(os.path.join(ROOTDIR_DATASET_ANOMALY, \"20220811_collisions_timestamp.xlsx\"))\n",
        "collision_rec1 = pd.read_excel(xls, 'rec1')\n",
        "collision_rec5 = pd.read_excel(xls, 'rec5')\n",
        "\n",
        "collisions = pd.concat([collision_rec1, collision_rec5])\n",
        "collisions_init = collisions[collisions['Inizio/fine'] == \"i\"].Timestamp - pd.to_timedelta([2] * len(collisions[collisions['Inizio/fine'] == \"i\"].Timestamp), 'h')\n",
        "\n",
        "filepath_csv = [os.path.join(ROOTDIR_DATASET_ANOMALY, f\"rec{r}_collision_20220811_rbtc_{freq}s.csv\") for r in [1, 5]]\n",
        "filepath_meta = [os.path.join(ROOTDIR_DATASET_ANOMALY, f\"rec{r}_collision_20220811_rbtc_{freq}s.metadata\") for r in [1, 5]]\n",
        "df_action_collision, df_collision, df_meta_collision, action2int_collision = get_df_action(filepath_csv, filepath_meta)"
      ]
    },
    {
      "cell_type": "markdown",
      "metadata": {
        "id": "AAS5s6nIms1S"
      },
      "source": [
        "### Features Exctraction"
      ]
    },
    {
      "cell_type": "code",
      "execution_count": null,
      "metadata": {
        "colab": {
          "base_uri": "https://localhost:8080/",
          "height": 348
        },
        "id": "YCf6T1CBrm1q",
        "outputId": "0d458f9e-0250-4306-97ab-d816a43ab3a4"
      },
      "outputs": [],
      "source": [
        "start_time = time.time()\n",
        "frequency = 1/float(freq)\n",
        "df_features = get_features_ts(\"statistical\", df_action, df_meta, frequency, action2int)\n",
        "df_features_collision = get_features_ts(\"statistical\", df_action_collision, df_meta_collision, frequency, action2int_collision)\n",
        "print(\"--- %s seconds ---\" % (time.time() - start_time))"
      ]
    },
    {
      "cell_type": "code",
      "execution_count": null,
      "metadata": {
        "colab": {
          "base_uri": "https://localhost:8080/"
        },
        "id": "w4fgcVqIrm1r",
        "outputId": "7f417b98-990c-40bc-e3f6-43b0998ccb80"
      },
      "outputs": [],
      "source": [
        "X_train, y_train, X_test, y_test = get_train_test_data(df_features, df_features_collision, full_normal=True)"
      ]
    },
    {
      "cell_type": "markdown",
      "metadata": {
        "id": "dt7jTbyH1tKk"
      },
      "source": [
        "## AutoEncoder"
      ]
    },
    {
      "cell_type": "code",
      "execution_count": null,
      "metadata": {
        "colab": {
          "base_uri": "https://localhost:8080/"
        },
        "id": "jgqFpq95krY5",
        "outputId": "0437b5c4-b303-462c-e113-46fba2114698"
      },
      "outputs": [],
      "source": [
        "from algorithms.autoencoder import AutoEncoder\n",
        "\n",
        "classifier = AutoEncoder(\n",
        "    name='AutoEncoder',\n",
        "    num_epochs=100,\n",
        "    batch_size=32,\n",
        "    lr=1e-3,\n",
        "    hidden_size=32,\n",
        "    sequence_length=5,\n",
        "    train_gaussian_percentage=0.25,\n",
        "    seed=42,\n",
        "    gpu=None,\n",
        "    details=True\n",
        ")\n",
        "\n",
        "# Train the AutoEncoder on normal data\n",
        "classifier.fit(X_train)\n",
        "\n",
        "print(\"AutoEncoder training completed.\")"
      ]
    },
    {
      "cell_type": "markdown",
      "metadata": {
        "id": "Rmr_gKxWkrY5"
      },
      "source": [
        "### Anomaly Detection"
      ]
    },
    {
      "cell_type": "code",
      "execution_count": null,
      "metadata": {
        "colab": {
          "base_uri": "https://localhost:8080/",
          "height": 639
        },
        "id": "QJiB1pebkrY5",
        "outputId": "8fc34a6a-2b8a-48dd-80de-9b421f4844d4"
      },
      "outputs": [],
      "source": [
        "anomaly_scores, anomalies_detected = plot_anomalies(classifier, X_test, y_test, freq)"
      ]
    },
    {
      "cell_type": "code",
      "execution_count": null,
      "metadata": {},
      "outputs": [],
      "source": [
        "anomaly_scores, y_test_binary = compute_metrics(classifier, X_test, y_test)"
      ]
    },
    {
      "cell_type": "code",
      "execution_count": null,
      "metadata": {},
      "outputs": [],
      "source": [
        "plot_roc_curve(y_test_binary, anomaly_scores)"
      ]
    },
    {
      "cell_type": "markdown",
      "metadata": {
        "id": "IxYU84_vp6Un"
      },
      "source": [
        "## Map anomalies to original time series"
      ]
    },
    {
      "cell_type": "code",
      "execution_count": null,
      "metadata": {
        "colab": {
          "background_save": true,
          "base_uri": "https://localhost:8080/",
          "height": 1000
        },
        "collapsed": true,
        "id": "nZiKdqzFp5Ev",
        "outputId": "4e5ae6a2-2b38-4718-af79-a3859e854b43"
      },
      "outputs": [],
      "source": [
        "plot_anomalies_over_time(X_test, anomaly_scores, anomalies_detected, freq)"
      ]
    }
  ],
  "metadata": {
    "colab": {
      "provenance": []
    },
    "kernelspec": {
      "display_name": ".venv",
      "language": "python",
      "name": "python3"
    },
    "language_info": {
      "codemirror_mode": {
        "name": "ipython",
        "version": 3
      },
      "file_extension": ".py",
      "mimetype": "text/x-python",
      "name": "python",
      "nbconvert_exporter": "python",
      "pygments_lexer": "ipython3",
      "version": "3.10.12"
    }
  },
  "nbformat": 4,
  "nbformat_minor": 0
}
