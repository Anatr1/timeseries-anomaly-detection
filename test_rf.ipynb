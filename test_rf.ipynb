{
  "cells": [
    {
      "cell_type": "markdown",
      "metadata": {
        "id": "7skbGH4Urm1T"
      },
      "source": [
        "# Group 14 - Project FP01\n",
        "## Time series anomaly detection - Random Forest Classifier\n",
        "\n",
        "This project aims at investigating the current state-of-the-arts TAD scenario."
      ]
    },
    {
      "cell_type": "code",
      "execution_count": 1,
      "metadata": {},
      "outputs": [],
      "source": [
        "# %pip install --no-binary :all: -r requirements.txt"
      ]
    },
    {
      "cell_type": "code",
      "execution_count": 2,
      "metadata": {
        "colab": {
          "base_uri": "https://localhost:8080/"
        },
        "id": "5mWByyf-sEML",
        "outputId": "26f53cfe-2b91-48c2-ab3c-30e9531e475f"
      },
      "outputs": [],
      "source": [
        "# %pip install numpy==1.26.4\n",
        "# %pip install pandas==1.5.3\n",
        "# %pip install tensorflow\n",
        "# %pip install tsfel\n",
        "# %pip install keras_tuner\n",
        "# %pip install -U kaleido\n",
        "# %pip install seaborn\n",
        "# %pip install plotly\n",
        "# %pip install openpyxl"
      ]
    },
    {
      "cell_type": "code",
      "execution_count": 3,
      "metadata": {
        "id": "O8r-brr8rm1Z"
      },
      "outputs": [],
      "source": [
        "import os\n",
        "import time\n",
        "import tsfel\n",
        "import warnings\n",
        "import datetime\n",
        "import keras_tuner as kt\n",
        "import numpy as np\n",
        "import pandas as pd\n",
        "import seaborn as sns\n",
        "import tensorflow as tf\n",
        "import matplotlib.cm as cm\n",
        "from sklearn import metrics\n",
        "import plotly.express as px\n",
        "import matplotlib.pyplot as plt\n",
        "from sklearn import preprocessing\n",
        "import plotly.graph_objects as go\n",
        "from sklearn.decomposition import PCA\n",
        "from sklearn.pipeline import Pipeline\n",
        "from sklearn.svm import SVC, LinearSVC\n",
        "from sklearn.metrics import classification_report, confusion_matrix\n",
        "from sklearn.ensemble import RandomForestClassifier\n",
        "from sklearn.model_selection import train_test_split\n",
        "from sklearn.feature_selection import SelectFromModel\n",
        "from sklearn.model_selection import RandomizedSearchCV\n",
        "from sklearn.feature_selection import VarianceThreshold\n",
        "from sklearn.metrics import accuracy_score, precision_score, recall_score, f1_score\n",
        "from sklearn.metrics import auc\n",
        "\n",
        "from src.dataset import get_df_action, get_features_ts, get_train_test_data, label_collision_data\n",
        "from src.plots import seaborn_cm, create_and_plot_cm, plot_uncertainty, plot_signals, plot_anomalies, plot_anomalies_over_time, plot_roc_curve\n",
        "from src.metrics import Confidence, anomaly_detection_metric, compute_metrics\n",
        "\n",
        "# from google.colab import drive\n",
        "# drive.mount('/content/drive', force_remount=True)\n",
        "\n",
        "# Set style for matplotlib\n",
        "plt.style.use(\"Solarize_Light2\")"
      ]
    },
    {
      "cell_type": "code",
      "execution_count": 4,
      "metadata": {
        "colab": {
          "base_uri": "https://localhost:8080/"
        },
        "id": "xpdYISeFq1QD",
        "outputId": "e44b43fe-3cad-4781-8e2f-749fb21e9238"
      },
      "outputs": [],
      "source": [
        "# from google.colab import drive\n",
        "# drive.mount('/content/drive')"
      ]
    },
    {
      "cell_type": "code",
      "execution_count": 5,
      "metadata": {
        "id": "4mylEXUIrm1g"
      },
      "outputs": [],
      "source": [
        "# Path to the root directory of the dataset\n",
        "ROOTDIR_DATASET_NORMAL =  './dataset/normal' #'/content/drive/MyDrive/dataset/normal'\n",
        "ROOTDIR_DATASET_ANOMALY = './dataset/collisions'#'/content/drive/MyDrive/dataset/collisions'\n",
        "\n",
        "# TF_ENABLE_ONEDNN_OPTS=0 means that the model will not use the oneDNN library for optimization\n",
        "\n",
        "import os\n",
        "os.environ['TF_ENABLE_ONEDNN_OPTS'] = '0'"
      ]
    },
    {
      "cell_type": "markdown",
      "metadata": {
        "id": "2fuWTQHSrm1i"
      },
      "source": [
        "### Dataset: Kuka-v1\n",
        "In 5 different recording sessions, the robot executes several different operations, while being\n",
        "monitored by several sensors. The sensed signals are collected, with different sampling frequencies\n",
        "(1, 10, 100, 200 Hz),"
      ]
    },
    {
      "cell_type": "markdown",
      "metadata": {
        "id": "K-vhG81Qrm1k"
      },
      "source": [
        "### Data Loading"
      ]
    },
    {
      "cell_type": "code",
      "execution_count": 6,
      "metadata": {
        "colab": {
          "base_uri": "https://localhost:8080/"
        },
        "id": "jyHvPhF9rm1m",
        "outputId": "d5b4e643-b119-459d-8d70-a1c9ae4ff619"
      },
      "outputs": [
        {
          "name": "stdout",
          "output_type": "stream",
          "text": [
            "Loading data.\n",
            "Found 31 different actions.\n",
            "Loading data done.\n",
            "\n",
            "Loading data.\n",
            "Found 31 different actions.\n",
            "Loading data done.\n",
            "\n"
          ]
        }
      ],
      "source": [
        "#freq = '1.0'\n",
        "freq = '0.1'\n",
        "#freq = '0.01'\n",
        "#freq = '0.005'\n",
        "\n",
        "# NORMAL DATA\n",
        "filepath_csv = [os.path.join(ROOTDIR_DATASET_NORMAL, f\"rec{r}_20220811_rbtc_{freq}s.csv\") for r in [0, 2, 3, 4]]\n",
        "filepath_meta = [os.path.join(ROOTDIR_DATASET_NORMAL, f\"rec{r}_20220811_rbtc_{freq}s.metadata\") for r in [0, 2, 3, 4]]\n",
        "df_action, df, df_meta, action2int = get_df_action(filepath_csv, filepath_meta)\n",
        "\n",
        "\n",
        "# COLLISION DATA\n",
        "xls = pd.ExcelFile(os.path.join(ROOTDIR_DATASET_ANOMALY, \"20220811_collisions_timestamp.xlsx\"))\n",
        "collision_rec1 = pd.read_excel(xls, 'rec1')\n",
        "collision_rec5 = pd.read_excel(xls, 'rec5')\n",
        "\n",
        "collisions = collision_rec1\n",
        "collisions_init = collisions[collisions['Inizio/fine'] == \"i\"].Timestamp - pd.to_timedelta([2] * len(collisions[collisions['Inizio/fine'] == \"i\"].Timestamp), 'h')\n",
        "\n",
        "collisions_adjusted = collisions.Timestamp - pd.to_timedelta([2] * len(collisions.Timestamp), 'h')\n",
        "# transform in like collision\n",
        "collisions['Timestamp'] = collisions_adjusted\n",
        "\n",
        "filepath_csv = [os.path.join(ROOTDIR_DATASET_ANOMALY, f\"rec{r}_collision_20220811_rbtc_{freq}s.csv\") for r in [1, 5]]\n",
        "filepath_meta = [os.path.join(ROOTDIR_DATASET_ANOMALY, f\"rec{r}_collision_20220811_rbtc_{freq}s.metadata\") for r in [1, 5]]\n",
        "df_action_collision, df_collision, df_meta_collision, action2int_collision = get_df_action(filepath_csv, filepath_meta)"
      ]
    },
    {
      "cell_type": "markdown",
      "metadata": {
        "id": "AAS5s6nIms1S"
      },
      "source": [
        "### Features Exctraction"
      ]
    },
    {
      "cell_type": "code",
      "execution_count": 7,
      "metadata": {
        "colab": {
          "base_uri": "https://localhost:8080/",
          "height": 368
        },
        "id": "YCf6T1CBrm1q",
        "outputId": "b2d0fdac-3933-4e74-bb1d-9acbb072d438"
      },
      "outputs": [
        {
          "name": "stdout",
          "output_type": "stream",
          "text": [
            "Computing features.\n"
          ]
        },
        {
          "data": {
            "text/html": [
              "\n",
              "              <p>\n",
              "                  Progress: 0% Complete\n",
              "              <p/>\n",
              "              <progress\n",
              "                  value='0'\n",
              "                  max='32',\n",
              "                  style='width: 25%',\n",
              "              >\n",
              "                  0\n",
              "              </progress>\n",
              "\n",
              "    "
            ],
            "text/plain": [
              "<IPython.core.display.HTML object>"
            ]
          },
          "metadata": {},
          "output_type": "display_data"
        },
        {
          "name": "stdout",
          "output_type": "stream",
          "text": [
            "Skipped feature extraction for pickFromPallet(1,2)=[true,1,0] 2022-08-11 14:37:37.436000 : 2022-08-11 14:37:37.421000.\n",
            "Skipped feature extraction for placeToPallet(1,1)=[true,0] 2022-08-11 14:37:37.421000 : 2022-08-11 14:37:37.442000.\n",
            "Skipped feature extraction for pickFromPallet(3,2)=[true,1,0] 2022-08-11 15:36:32.568000 : 2022-08-11 15:36:32.533000.\n",
            "Skipped feature extraction for pickFromPallet(3,2)=[true,1,0] 2022-08-11 15:36:32.572000 : 2022-08-11 15:36:32.561000.\n",
            "Skipped feature extraction for placeToPallet(1,3)=[true,0] 2022-08-11 15:36:32.533000 : 2022-08-11 15:36:32.572000.\n",
            "Skipped feature extraction for placeToPallet(1,3)=[true,0] 2022-08-11 15:36:32.561000 : 2022-08-11 15:36:32.561000.\n",
            "Computing features done.\n",
            "Computing features.\n"
          ]
        },
        {
          "data": {
            "text/html": [
              "\n",
              "              <p>\n",
              "                  Progress: 0% Complete\n",
              "              <p/>\n",
              "              <progress\n",
              "                  value='0'\n",
              "                  max='12',\n",
              "                  style='width: 25%',\n",
              "              >\n",
              "                  0\n",
              "              </progress>\n",
              "\n",
              "    "
            ],
            "text/plain": [
              "<IPython.core.display.HTML object>"
            ]
          },
          "metadata": {},
          "output_type": "display_data"
        },
        {
          "name": "stdout",
          "output_type": "stream",
          "text": [
            "Skipped feature extraction for moveOverPallet(1,3)=[true,0] 2022-08-11 16:55:15.149000 : 2022-08-11 16:55:15.146000.\n",
            "Skipped feature extraction for moveOverPallet(3,1)=[true,0] 2022-08-11 16:55:15.146000 : 2022-08-11 16:55:15.150000.\n",
            "Computing features done.\n",
            "--- 177.14164853096008 seconds ---\n"
          ]
        }
      ],
      "source": [
        "start_time = time.time()\n",
        "frequency = 1/float(freq)\n",
        "df_features = get_features_ts(\"statistical\", df_action, df_meta, frequency, action2int)\n",
        "df_features_collision = get_features_ts(\"statistical\", df_action_collision, df_meta_collision, frequency, action2int_collision)\n",
        "print(\"--- %s seconds ---\" % (time.time() - start_time))"
      ]
    },
    {
      "cell_type": "code",
      "execution_count": 8,
      "metadata": {
        "id": "w4fgcVqIrm1r"
      },
      "outputs": [
        {
          "name": "stdout",
          "output_type": "stream",
          "text": [
            "X_train shape: (973, 2200)\n",
            "y_train shape: (973,)\n",
            "X_test shape: (306, 2200)\n",
            "y_test shape: (306,)\n",
            "X_train shape: (973, 96)\n",
            "y_train categorical shape: (973, 31)\n",
            "y_train shape: (973,)\n",
            "X_test shape: (306, 96)\n",
            "y_test shape: (306,)\n"
          ]
        }
      ],
      "source": [
        "X_train, y_train, X_test, y_test, X_test_start_end = get_train_test_data(df_features, df_features_collision)"
      ]
    },
    {
      "cell_type": "code",
      "execution_count": 9,
      "metadata": {
        "id": "8i13eyL26cbd"
      },
      "outputs": [],
      "source": [
        "df_with_labels = label_collision_data(df_features_collision, collisions_init)\n",
        "y_test_collision = df_with_labels[\"is_collision\"]"
      ]
    },
    {
      "cell_type": "markdown",
      "metadata": {
        "id": "RcGkEcXLLWmI"
      },
      "source": [
        "Trying to take collision_zones\n",
        "\n"
      ]
    },
    {
      "cell_type": "code",
      "execution_count": 10,
      "metadata": {
        "id": "weZx8M0iLOeQ"
      },
      "outputs": [],
      "source": [
        "ts_starts = collisions[collisions['Inizio/fine'] == 'i'].Timestamp.reset_index()\n",
        "ts_ends = collisions[collisions['Inizio/fine'] == 'f'].Timestamp.reset_index()\n",
        "\n",
        "d = {'start': ts_starts.Timestamp, 'end': ts_ends.Timestamp}\n",
        "collision_zones = pd.DataFrame(d)"
      ]
    },
    {
      "cell_type": "markdown",
      "metadata": {
        "id": "dt7jTbyH1tKk"
      },
      "source": [
        "\n",
        "## Random Forest"
      ]
    },
    {
      "cell_type": "code",
      "execution_count": 11,
      "metadata": {
        "id": "jgqFpq95krY5"
      },
      "outputs": [
        {
          "name": "stdout",
          "output_type": "stream",
          "text": [
            "Random Forest training completed.\n"
          ]
        }
      ],
      "source": [
        "num_estims = [10, 100, 1000]\n",
        "crits = ['gini', 'entropy', 'log_loss']\n",
        "max_dept = [None, 50, 100, 1000]\n",
        "min_s_splits = [2, 3]\n",
        "max_features = ['sqrt', 'log2', None]\n",
        "\n",
        "classifier = RandomForestClassifier(\n",
        "    n_estimators = 100,\n",
        "    criterion = 'gini',\n",
        "    max_depth = 1000,\n",
        "    min_samples_split = 2,\n",
        "    max_features = 'sqrt'\n",
        "    )\n",
        "# Train the RandomForestClassifier on normal data\n",
        "classifier.fit(X_train, y_train)\n",
        "print(\"Random Forest training completed.\")"
      ]
    },
    {
      "cell_type": "markdown",
      "metadata": {
        "id": "Rmr_gKxWkrY5"
      },
      "source": [
        "### Anomaly Detection"
      ]
    },
    {
      "cell_type": "code",
      "execution_count": 22,
      "metadata": {
        "id": "fJIPz_CO5RCW"
      },
      "outputs": [
        {
          "name": "stdout",
          "output_type": "stream",
          "text": [
            "Anomaly prediction completed.\n"
          ]
        }
      ],
      "source": [
        "anomaly_scores = None\n",
        "try:\n",
        "    anomaly_scores = classifier.predict_proba(X_test)\n",
        "    # Replace inf values with the maximum float value\n",
        "    anomaly_scores = np.nan_to_num(anomaly_scores, nan=np.nanmean(anomaly_scores), posinf=np.finfo(float).max, neginf=np.finfo(float).min)\n",
        "except Exception as e:\n",
        "    print(f\"An error occurred during prediction: {str(e)}\")\n",
        "    # If an error occurs, you might want to inspect the model's internal state\n",
        "print(\"Anomaly prediction completed.\")"
      ]
    },
    {
      "cell_type": "code",
      "execution_count": 25,
      "metadata": {},
      "outputs": [
        {
          "data": {
            "text/plain": [
              "(306, 31)"
            ]
          },
          "execution_count": 25,
          "metadata": {},
          "output_type": "execute_result"
        }
      ],
      "source": [
        "anomaly_scores.shape"
      ]
    },
    {
      "cell_type": "code",
      "execution_count": 26,
      "metadata": {
        "id": "UrypdSJR5W--"
      },
      "outputs": [],
      "source": [
        "threshold_1 = np.mean(anomaly_scores) + 2 * np.std(anomaly_scores)"
      ]
    },
    {
      "cell_type": "code",
      "execution_count": 27,
      "metadata": {
        "id": "VT1PKZZi5ZGW"
      },
      "outputs": [],
      "source": [
        "median = np.median(anomaly_scores)\n",
        "mad = np.median(np.abs(anomaly_scores - median))\n",
        "threshold_2 = median + 3 * mad"
      ]
    },
    {
      "cell_type": "code",
      "execution_count": 28,
      "metadata": {
        "id": "uc8nH9Y15blV"
      },
      "outputs": [],
      "source": [
        "threshold_3 = np.percentile(anomaly_scores, 95)"
      ]
    },
    {
      "cell_type": "code",
      "execution_count": 29,
      "metadata": {
        "id": "I4mXq8TK5dPV"
      },
      "outputs": [],
      "source": [
        "Q1 = np.percentile(anomaly_scores, 25)\n",
        "Q3 = np.percentile(anomaly_scores, 75)\n",
        "IQR = Q3 - Q1\n",
        "threshold_4 = Q3 + 1.5 * IQR"
      ]
    },
    {
      "cell_type": "code",
      "execution_count": 30,
      "metadata": {
        "id": "K6thJ4fF5fZV"
      },
      "outputs": [
        {
          "name": "stdout",
          "output_type": "stream",
          "text": [
            "Number of anomalies detected: [11  6  2 17 14  4  5 18 13  7  7 19  9  5  3  4  5  5  5  4  4  4  3  5\n",
            "  4  5  4  6  3  4  3] with threshold 0.2740876850403273\n",
            "Number of anomalies detected: [306 306 306 306 306 306 306 306 306 306 306 306 306 306 306 306 306 306\n",
            " 306 306 306 306 306 306 306 306 306 306 306 306 306] with threshold 0.0\n",
            "Number of anomalies detected: [20 16 10 47 31  8 12 39 25 34 13 50 29 16  6 12  8 16 12  6  5  5  6 17\n",
            " 12  7  5  7  7  9  4] with threshold 0.11\n",
            "Number of anomalies detected: [60 36 30 72 59 26 24 65 78 65 35 69 55 34 30 39 21 48 29 16 17 24 28 92\n",
            " 37 30 16 18 23 40 14] with threshold 0.05\n"
          ]
        }
      ],
      "source": [
        "for threshold in [threshold_1, threshold_2, threshold_3, threshold_4]:\n",
        "    anomalies_detected = sum(anomaly_scores >= threshold)\n",
        "    print(f\"Number of anomalies detected: {anomalies_detected} with threshold {threshold}\")"
      ]
    },
    {
      "cell_type": "code",
      "execution_count": 31,
      "metadata": {
        "id": "t7gOiFkS6ml-"
      },
      "outputs": [
        {
          "ename": "ValueError",
          "evalue": "x and y must be the same size",
          "output_type": "error",
          "traceback": [
            "\u001b[1;31m---------------------------------------------------------------------------\u001b[0m",
            "\u001b[1;31mValueError\u001b[0m                                Traceback (most recent call last)",
            "Cell \u001b[1;32mIn[31], line 1\u001b[0m\n\u001b[1;32m----> 1\u001b[0m anomalies_detected \u001b[38;5;241m=\u001b[39m \u001b[43mplot_anomalies\u001b[49m\u001b[43m(\u001b[49m\u001b[43manomaly_scores\u001b[49m\u001b[43m,\u001b[49m\u001b[43m \u001b[49m\u001b[43mfreq\u001b[49m\u001b[43m,\u001b[49m\u001b[43m \u001b[49m\u001b[43mthreshold_2\u001b[49m\u001b[43m,\u001b[49m\u001b[43m \u001b[49m\u001b[38;5;124;43m\"\u001b[39;49m\u001b[38;5;124;43mRANDOM FOREST\u001b[39;49m\u001b[38;5;124;43m\"\u001b[39;49m\u001b[43m)\u001b[49m\n",
            "File \u001b[1;32md:\\Dati\\Users\\Desktop\\Poli\\V\\MLiA\\Project\\gabri_test\\MLinAPP-FP01-14\\src\\plots.py:189\u001b[0m, in \u001b[0;36mplot_anomalies\u001b[1;34m(anomaly_scores, freq, threshold, model_name)\u001b[0m\n\u001b[0;32m    184\u001b[0m \u001b[38;5;28;01mdef\u001b[39;00m \u001b[38;5;21mplot_anomalies\u001b[39m(anomaly_scores, freq, threshold, model_name\u001b[38;5;241m=\u001b[39m\u001b[38;5;124m\"\u001b[39m\u001b[38;5;124mNo_Model\u001b[39m\u001b[38;5;124m\"\u001b[39m):\n\u001b[0;32m    185\u001b[0m     \n\u001b[0;32m    186\u001b[0m     \u001b[38;5;66;03m# Visualize the results\u001b[39;00m\n\u001b[0;32m    187\u001b[0m     plt\u001b[38;5;241m.\u001b[39mfigure(figsize\u001b[38;5;241m=\u001b[39m(\u001b[38;5;241m12\u001b[39m, \u001b[38;5;241m6\u001b[39m))\n\u001b[1;32m--> 189\u001b[0m     scatter \u001b[38;5;241m=\u001b[39m \u001b[43mplt\u001b[49m\u001b[38;5;241;43m.\u001b[39;49m\u001b[43mscatter\u001b[49m\u001b[43m(\u001b[49m\u001b[38;5;28;43mrange\u001b[39;49m\u001b[43m(\u001b[49m\u001b[38;5;28;43mlen\u001b[39;49m\u001b[43m(\u001b[49m\u001b[43manomaly_scores\u001b[49m\u001b[43m)\u001b[49m\u001b[43m)\u001b[49m\u001b[43m,\u001b[49m\u001b[43m \u001b[49m\u001b[43manomaly_scores\u001b[49m\u001b[43m,\u001b[49m\n\u001b[0;32m    190\u001b[0m \u001b[43m                        \u001b[49m\u001b[43mc\u001b[49m\u001b[38;5;241;43m=\u001b[39;49m\u001b[43manomaly_scores\u001b[49m\u001b[43m,\u001b[49m\u001b[43m \u001b[49m\u001b[43mcmap\u001b[49m\u001b[38;5;241;43m=\u001b[39;49m\u001b[38;5;124;43m'\u001b[39;49m\u001b[38;5;124;43mcoolwarm\u001b[39;49m\u001b[38;5;124;43m'\u001b[39;49m\u001b[43m,\u001b[49m\n\u001b[0;32m    191\u001b[0m \u001b[43m                        \u001b[49m\u001b[43mnorm\u001b[49m\u001b[38;5;241;43m=\u001b[39;49m\u001b[43mplt\u001b[49m\u001b[38;5;241;43m.\u001b[39;49m\u001b[43mNormalize\u001b[49m\u001b[43m(\u001b[49m\u001b[43mvmin\u001b[49m\u001b[38;5;241;43m=\u001b[39;49m\u001b[38;5;241;43m0\u001b[39;49m\u001b[43m,\u001b[49m\u001b[43m \u001b[49m\u001b[43mvmax\u001b[49m\u001b[38;5;241;43m=\u001b[39;49m\u001b[43mthreshold\u001b[49m\u001b[38;5;241;43m*\u001b[39;49m\u001b[38;5;241;43m2\u001b[39;49m\u001b[43m)\u001b[49m\u001b[43m)\u001b[49m\n\u001b[0;32m    193\u001b[0m     plt\u001b[38;5;241m.\u001b[39mcolorbar(scatter, label\u001b[38;5;241m=\u001b[39m\u001b[38;5;124m'\u001b[39m\u001b[38;5;124mAnomaly Score\u001b[39m\u001b[38;5;124m'\u001b[39m)\n\u001b[0;32m    194\u001b[0m     plt\u001b[38;5;241m.\u001b[39maxhline(y\u001b[38;5;241m=\u001b[39mthreshold, color\u001b[38;5;241m=\u001b[39m\u001b[38;5;124m'\u001b[39m\u001b[38;5;124mg\u001b[39m\u001b[38;5;124m'\u001b[39m, linestyle\u001b[38;5;241m=\u001b[39m\u001b[38;5;124m'\u001b[39m\u001b[38;5;124m--\u001b[39m\u001b[38;5;124m'\u001b[39m, label\u001b[38;5;241m=\u001b[39m\u001b[38;5;124m'\u001b[39m\u001b[38;5;124mThreshold\u001b[39m\u001b[38;5;124m'\u001b[39m)\n",
            "File \u001b[1;32md:\\Dati\\Users\\Desktop\\Poli\\V\\MLiA\\Project\\gabri_test\\MLinAPP-FP01-14\\venv\\Lib\\site-packages\\matplotlib\\pyplot.py:3903\u001b[0m, in \u001b[0;36mscatter\u001b[1;34m(x, y, s, c, marker, cmap, norm, vmin, vmax, alpha, linewidths, edgecolors, plotnonfinite, data, **kwargs)\u001b[0m\n\u001b[0;32m   3884\u001b[0m \u001b[38;5;129m@_copy_docstring_and_deprecators\u001b[39m(Axes\u001b[38;5;241m.\u001b[39mscatter)\n\u001b[0;32m   3885\u001b[0m \u001b[38;5;28;01mdef\u001b[39;00m \u001b[38;5;21mscatter\u001b[39m(\n\u001b[0;32m   3886\u001b[0m     x: \u001b[38;5;28mfloat\u001b[39m \u001b[38;5;241m|\u001b[39m ArrayLike,\n\u001b[1;32m   (...)\u001b[0m\n\u001b[0;32m   3901\u001b[0m     \u001b[38;5;241m*\u001b[39m\u001b[38;5;241m*\u001b[39mkwargs,\n\u001b[0;32m   3902\u001b[0m ) \u001b[38;5;241m-\u001b[39m\u001b[38;5;241m>\u001b[39m PathCollection:\n\u001b[1;32m-> 3903\u001b[0m     __ret \u001b[38;5;241m=\u001b[39m \u001b[43mgca\u001b[49m\u001b[43m(\u001b[49m\u001b[43m)\u001b[49m\u001b[38;5;241;43m.\u001b[39;49m\u001b[43mscatter\u001b[49m\u001b[43m(\u001b[49m\n\u001b[0;32m   3904\u001b[0m \u001b[43m        \u001b[49m\u001b[43mx\u001b[49m\u001b[43m,\u001b[49m\n\u001b[0;32m   3905\u001b[0m \u001b[43m        \u001b[49m\u001b[43my\u001b[49m\u001b[43m,\u001b[49m\n\u001b[0;32m   3906\u001b[0m \u001b[43m        \u001b[49m\u001b[43ms\u001b[49m\u001b[38;5;241;43m=\u001b[39;49m\u001b[43ms\u001b[49m\u001b[43m,\u001b[49m\n\u001b[0;32m   3907\u001b[0m \u001b[43m        \u001b[49m\u001b[43mc\u001b[49m\u001b[38;5;241;43m=\u001b[39;49m\u001b[43mc\u001b[49m\u001b[43m,\u001b[49m\n\u001b[0;32m   3908\u001b[0m \u001b[43m        \u001b[49m\u001b[43mmarker\u001b[49m\u001b[38;5;241;43m=\u001b[39;49m\u001b[43mmarker\u001b[49m\u001b[43m,\u001b[49m\n\u001b[0;32m   3909\u001b[0m \u001b[43m        \u001b[49m\u001b[43mcmap\u001b[49m\u001b[38;5;241;43m=\u001b[39;49m\u001b[43mcmap\u001b[49m\u001b[43m,\u001b[49m\n\u001b[0;32m   3910\u001b[0m \u001b[43m        \u001b[49m\u001b[43mnorm\u001b[49m\u001b[38;5;241;43m=\u001b[39;49m\u001b[43mnorm\u001b[49m\u001b[43m,\u001b[49m\n\u001b[0;32m   3911\u001b[0m \u001b[43m        \u001b[49m\u001b[43mvmin\u001b[49m\u001b[38;5;241;43m=\u001b[39;49m\u001b[43mvmin\u001b[49m\u001b[43m,\u001b[49m\n\u001b[0;32m   3912\u001b[0m \u001b[43m        \u001b[49m\u001b[43mvmax\u001b[49m\u001b[38;5;241;43m=\u001b[39;49m\u001b[43mvmax\u001b[49m\u001b[43m,\u001b[49m\n\u001b[0;32m   3913\u001b[0m \u001b[43m        \u001b[49m\u001b[43malpha\u001b[49m\u001b[38;5;241;43m=\u001b[39;49m\u001b[43malpha\u001b[49m\u001b[43m,\u001b[49m\n\u001b[0;32m   3914\u001b[0m \u001b[43m        \u001b[49m\u001b[43mlinewidths\u001b[49m\u001b[38;5;241;43m=\u001b[39;49m\u001b[43mlinewidths\u001b[49m\u001b[43m,\u001b[49m\n\u001b[0;32m   3915\u001b[0m \u001b[43m        \u001b[49m\u001b[43medgecolors\u001b[49m\u001b[38;5;241;43m=\u001b[39;49m\u001b[43medgecolors\u001b[49m\u001b[43m,\u001b[49m\n\u001b[0;32m   3916\u001b[0m \u001b[43m        \u001b[49m\u001b[43mplotnonfinite\u001b[49m\u001b[38;5;241;43m=\u001b[39;49m\u001b[43mplotnonfinite\u001b[49m\u001b[43m,\u001b[49m\n\u001b[0;32m   3917\u001b[0m \u001b[43m        \u001b[49m\u001b[38;5;241;43m*\u001b[39;49m\u001b[38;5;241;43m*\u001b[39;49m\u001b[43m(\u001b[49m\u001b[43m{\u001b[49m\u001b[38;5;124;43m\"\u001b[39;49m\u001b[38;5;124;43mdata\u001b[39;49m\u001b[38;5;124;43m\"\u001b[39;49m\u001b[43m:\u001b[49m\u001b[43m \u001b[49m\u001b[43mdata\u001b[49m\u001b[43m}\u001b[49m\u001b[43m \u001b[49m\u001b[38;5;28;43;01mif\u001b[39;49;00m\u001b[43m \u001b[49m\u001b[43mdata\u001b[49m\u001b[43m \u001b[49m\u001b[38;5;129;43;01mis\u001b[39;49;00m\u001b[43m \u001b[49m\u001b[38;5;129;43;01mnot\u001b[39;49;00m\u001b[43m \u001b[49m\u001b[38;5;28;43;01mNone\u001b[39;49;00m\u001b[43m \u001b[49m\u001b[38;5;28;43;01melse\u001b[39;49;00m\u001b[43m \u001b[49m\u001b[43m{\u001b[49m\u001b[43m}\u001b[49m\u001b[43m)\u001b[49m\u001b[43m,\u001b[49m\n\u001b[0;32m   3918\u001b[0m \u001b[43m        \u001b[49m\u001b[38;5;241;43m*\u001b[39;49m\u001b[38;5;241;43m*\u001b[39;49m\u001b[43mkwargs\u001b[49m\u001b[43m,\u001b[49m\n\u001b[0;32m   3919\u001b[0m \u001b[43m    \u001b[49m\u001b[43m)\u001b[49m\n\u001b[0;32m   3920\u001b[0m     sci(__ret)\n\u001b[0;32m   3921\u001b[0m     \u001b[38;5;28;01mreturn\u001b[39;00m __ret\n",
            "File \u001b[1;32md:\\Dati\\Users\\Desktop\\Poli\\V\\MLiA\\Project\\gabri_test\\MLinAPP-FP01-14\\venv\\Lib\\site-packages\\matplotlib\\__init__.py:1486\u001b[0m, in \u001b[0;36m_preprocess_data.<locals>.inner\u001b[1;34m(ax, data, *args, **kwargs)\u001b[0m\n\u001b[0;32m   1483\u001b[0m \u001b[38;5;129m@functools\u001b[39m\u001b[38;5;241m.\u001b[39mwraps(func)\n\u001b[0;32m   1484\u001b[0m \u001b[38;5;28;01mdef\u001b[39;00m \u001b[38;5;21minner\u001b[39m(ax, \u001b[38;5;241m*\u001b[39margs, data\u001b[38;5;241m=\u001b[39m\u001b[38;5;28;01mNone\u001b[39;00m, \u001b[38;5;241m*\u001b[39m\u001b[38;5;241m*\u001b[39mkwargs):\n\u001b[0;32m   1485\u001b[0m     \u001b[38;5;28;01mif\u001b[39;00m data \u001b[38;5;129;01mis\u001b[39;00m \u001b[38;5;28;01mNone\u001b[39;00m:\n\u001b[1;32m-> 1486\u001b[0m         \u001b[38;5;28;01mreturn\u001b[39;00m \u001b[43mfunc\u001b[49m\u001b[43m(\u001b[49m\n\u001b[0;32m   1487\u001b[0m \u001b[43m            \u001b[49m\u001b[43max\u001b[49m\u001b[43m,\u001b[49m\n\u001b[0;32m   1488\u001b[0m \u001b[43m            \u001b[49m\u001b[38;5;241;43m*\u001b[39;49m\u001b[38;5;28;43mmap\u001b[39;49m\u001b[43m(\u001b[49m\u001b[43msanitize_sequence\u001b[49m\u001b[43m,\u001b[49m\u001b[43m \u001b[49m\u001b[43margs\u001b[49m\u001b[43m)\u001b[49m\u001b[43m,\u001b[49m\n\u001b[0;32m   1489\u001b[0m \u001b[43m            \u001b[49m\u001b[38;5;241;43m*\u001b[39;49m\u001b[38;5;241;43m*\u001b[39;49m\u001b[43m{\u001b[49m\u001b[43mk\u001b[49m\u001b[43m:\u001b[49m\u001b[43m \u001b[49m\u001b[43msanitize_sequence\u001b[49m\u001b[43m(\u001b[49m\u001b[43mv\u001b[49m\u001b[43m)\u001b[49m\u001b[43m \u001b[49m\u001b[38;5;28;43;01mfor\u001b[39;49;00m\u001b[43m \u001b[49m\u001b[43mk\u001b[49m\u001b[43m,\u001b[49m\u001b[43m \u001b[49m\u001b[43mv\u001b[49m\u001b[43m \u001b[49m\u001b[38;5;129;43;01min\u001b[39;49;00m\u001b[43m \u001b[49m\u001b[43mkwargs\u001b[49m\u001b[38;5;241;43m.\u001b[39;49m\u001b[43mitems\u001b[49m\u001b[43m(\u001b[49m\u001b[43m)\u001b[49m\u001b[43m}\u001b[49m\u001b[43m)\u001b[49m\n\u001b[0;32m   1491\u001b[0m     bound \u001b[38;5;241m=\u001b[39m new_sig\u001b[38;5;241m.\u001b[39mbind(ax, \u001b[38;5;241m*\u001b[39margs, \u001b[38;5;241m*\u001b[39m\u001b[38;5;241m*\u001b[39mkwargs)\n\u001b[0;32m   1492\u001b[0m     auto_label \u001b[38;5;241m=\u001b[39m (bound\u001b[38;5;241m.\u001b[39marguments\u001b[38;5;241m.\u001b[39mget(label_namer)\n\u001b[0;32m   1493\u001b[0m                   \u001b[38;5;129;01mor\u001b[39;00m bound\u001b[38;5;241m.\u001b[39mkwargs\u001b[38;5;241m.\u001b[39mget(label_namer))\n",
            "File \u001b[1;32md:\\Dati\\Users\\Desktop\\Poli\\V\\MLiA\\Project\\gabri_test\\MLinAPP-FP01-14\\venv\\Lib\\site-packages\\matplotlib\\axes\\_axes.py:4787\u001b[0m, in \u001b[0;36mAxes.scatter\u001b[1;34m(self, x, y, s, c, marker, cmap, norm, vmin, vmax, alpha, linewidths, edgecolors, plotnonfinite, **kwargs)\u001b[0m\n\u001b[0;32m   4785\u001b[0m y \u001b[38;5;241m=\u001b[39m np\u001b[38;5;241m.\u001b[39mma\u001b[38;5;241m.\u001b[39mravel(y)\n\u001b[0;32m   4786\u001b[0m \u001b[38;5;28;01mif\u001b[39;00m x\u001b[38;5;241m.\u001b[39msize \u001b[38;5;241m!=\u001b[39m y\u001b[38;5;241m.\u001b[39msize:\n\u001b[1;32m-> 4787\u001b[0m     \u001b[38;5;28;01mraise\u001b[39;00m \u001b[38;5;167;01mValueError\u001b[39;00m(\u001b[38;5;124m\"\u001b[39m\u001b[38;5;124mx and y must be the same size\u001b[39m\u001b[38;5;124m\"\u001b[39m)\n\u001b[0;32m   4789\u001b[0m \u001b[38;5;28;01mif\u001b[39;00m s \u001b[38;5;129;01mis\u001b[39;00m \u001b[38;5;28;01mNone\u001b[39;00m:\n\u001b[0;32m   4790\u001b[0m     s \u001b[38;5;241m=\u001b[39m (\u001b[38;5;241m20\u001b[39m \u001b[38;5;28;01mif\u001b[39;00m mpl\u001b[38;5;241m.\u001b[39mrcParams[\u001b[38;5;124m'\u001b[39m\u001b[38;5;124m_internal.classic_mode\u001b[39m\u001b[38;5;124m'\u001b[39m] \u001b[38;5;28;01melse\u001b[39;00m\n\u001b[0;32m   4791\u001b[0m          mpl\u001b[38;5;241m.\u001b[39mrcParams[\u001b[38;5;124m'\u001b[39m\u001b[38;5;124mlines.markersize\u001b[39m\u001b[38;5;124m'\u001b[39m] \u001b[38;5;241m*\u001b[39m\u001b[38;5;241m*\u001b[39m \u001b[38;5;241m2.0\u001b[39m)\n",
            "\u001b[1;31mValueError\u001b[0m: x and y must be the same size"
          ]
        },
        {
          "data": {
            "image/png": "[encoded data removed]",
            "text/plain": [
              "<Figure size 1200x600 with 1 Axes>"
            ]
          },
          "metadata": {},
          "output_type": "display_data"
        }
      ],
      "source": [
        "anomalies_detected = plot_anomalies(anomaly_scores, freq, threshold_2, \"RANDOM FOREST\")"
      ]
    },
    {
      "cell_type": "code",
      "execution_count": null,
      "metadata": {
        "id": "o5L9QwuonXxv"
      },
      "outputs": [],
      "source": [
        "# for classifier in fitted_clfs:\n",
        "#   print(\"-------------------------------------------- New classifier --------------------------------------------\")\n",
        "compute_metrics(anomaly_scores, y_test_collision, threshold_2)"
      ]
    },
    {
      "cell_type": "code",
      "execution_count": null,
      "metadata": {
        "id": "l9RHji6ynXxw"
      },
      "outputs": [],
      "source": [
        "plot_roc_curve(y_test_collision.values, anomaly_scores)"
      ]
    },
    {
      "cell_type": "markdown",
      "metadata": {
        "id": "IxYU84_vp6Un"
      },
      "source": [
        "## Map anomalies to original time series"
      ]
    },
    {
      "cell_type": "code",
      "execution_count": null,
      "metadata": {
        "collapsed": true,
        "id": "nZiKdqzFp5Ev"
      },
      "outputs": [],
      "source": [
        "plot_anomalies_over_time(X_test, anomaly_scores, anomalies_detected, freq, threshold_2, collision_zones, X_test_start_end)"
      ]
    }
  ],
  "metadata": {
    "colab": {
      "provenance": []
    },
    "kernelspec": {
      "display_name": "Python 3",
      "name": "python3"
    },
    "language_info": {
      "codemirror_mode": {
        "name": "ipython",
        "version": 3
      },
      "file_extension": ".py",
      "mimetype": "text/x-python",
      "name": "python",
      "nbconvert_exporter": "python",
      "pygments_lexer": "ipython3",
      "version": "3.11.5"
    }
  },
  "nbformat": 4,
  "nbformat_minor": 0
}
